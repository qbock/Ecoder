{
 "cells": [
  {
   "cell_type": "code",
   "execution_count": 1,
   "metadata": {},
   "outputs": [],
   "source": [
    "import matplotlib.pyplot as plt\n",
    "import csv\n",
    "import numpy as np\n",
    "import pandas as pd"
   ]
  },
  {
   "cell_type": "code",
   "execution_count": 5,
   "metadata": {},
   "outputs": [],
   "source": [
    "# flops, emd, error \n",
    "baseline_15 = [6544, 1.3308, 0.393]\n",
    "baseline_20 = [6544, 1.2385, 0.359]\n",
    "baseline_50 = [6544, 1.1703, 0.339]\n",
    "baseline_100 = [6544, 1.138, 0.324]"
   ]
  },
  {
   "cell_type": "code",
   "execution_count": 2,
   "metadata": {},
   "outputs": [],
   "source": [
    "def make_plots(filename, baseline, plot_error=False):\n",
    "       df = pd.read_csv('./results/' + filename + '.csv')\n",
    "\n",
    "       if plot_error:\n",
    "              emd = df.loc[:,\"EMD\"]\n",
    "       else:\n",
    "              emd = df.loc[:,\"EMD_error\"]\n",
    "       ops = df.loc[:,\"OPs\"]\n",
    "       info = df.loc[:,'info']\n",
    "\n",
    "       fig, ax = plt.subplots()\n",
    "\n",
    "       labled = [False,False,False,False]\n",
    "       for o,e,i in zip(ops, emd, info):\n",
    "              num_layers = int(i.split('[')[1].split(']')[0].count(','))+1\n",
    "              if num_layers == 0:\n",
    "                     if labled[0]:\n",
    "                            ax.scatter(e,o, color='lightsteelblue')\n",
    "                     else:\n",
    "                            ax.scatter(e,o, color='lightsteelblue', label='0 CNN layer')\n",
    "                            labled[0] = True\n",
    "              elif num_layers == 1:\n",
    "                     if labled[1]:\n",
    "                            ax.scatter(e,o, color='cornflowerblue')\n",
    "                     else:\n",
    "                            ax.scatter(e,o, color='cornflowerblue', label='1 CNN layer')\n",
    "                            labled[1] = True\n",
    "              elif num_layers == 2:\n",
    "                     if labled[2]:\n",
    "                            ax.scatter(e,o, color='royalblue')\n",
    "                     else:\n",
    "                            ax.scatter(e,o, color='royalblue', label='2 CNN layer')\n",
    "                            labled[2] = True\n",
    "              else:\n",
    "                     if labled[3]:\n",
    "                            ax.scatter(e,o, color='midnightblue')\n",
    "                     else:\n",
    "                            ax.scatter(e,o, color='midnightblue', label='3 CNN layer')\n",
    "                            labled[3] = True\n",
    "       if plot_error:\n",
    "              ax.scatter(baseline[2], baseline[0], marker='*', c='gold', label=\"baseline model\")\n",
    "       else:\n",
    "              ax.scatter(baseline[1], baseline[0], marker='*', c='gold', label=\"baseline model\")\n",
    "\n",
    "       x_lower = min(emd)\n",
    "       x_upper = x_lower * 2.5\n",
    "       y_lower = min(ops)\n",
    "       y_upper = y_upper * 2.5\n",
    "\n",
    "       ax.set_yscale('log')\n",
    "       ax.set(xlim=(x_lower, x_upper),\n",
    "              ylim=(y_lower, y_upper))\n",
    "       plt.legend(loc='upper right')\n",
    "       plt.ylabel('OPs', fontsize=16)\n",
    "       if plot_error:\n",
    "              plt.xlabel('EMD', fontsize=18)\n",
    "              plt.savefig('EMD_vs_OPS.jpg', dpi=1000)\n",
    "       else:\n",
    "              plt.xlabel('Error', fontsize=18)\n",
    "              plt.savefig('EMD_Error_vs_OPS.jpg', dpi=1000)"
   ]
  },
  {
   "cell_type": "code",
   "execution_count": 6,
   "metadata": {},
   "outputs": [
    {
     "data": {
      "image/png": "[encoded data removed]",
      "text/plain": [
       "<Figure size 432x288 with 1 Axes>"
      ]
     },
     "metadata": {
      "needs_background": "light"
     },
     "output_type": "display_data"
    }
   ],
   "source": [
    "make_plots(\"run-1\", baseline_20)"
   ]
  },
  {
   "cell_type": "code",
   "execution_count": null,
   "metadata": {},
   "outputs": [],
   "source": []
  }
 ],
 "metadata": {
  "kernelspec": {
   "display_name": "Python 3.7.12 ('ecoder-env')",
   "language": "python",
   "name": "python3"
  },
  "language_info": {
   "codemirror_mode": {
    "name": "ipython",
    "version": 3
   },
   "file_extension": ".py",
   "mimetype": "text/x-python",
   "name": "python",
   "nbconvert_exporter": "python",
   "pygments_lexer": "ipython3",
   "version": "3.7.12"
  },
  "orig_nbformat": 4,
  "vscode": {
   "interpreter": {
    "hash": "3aa906558d20ba61ce00a40fd03e886644db7d4c3e10a69effc1c261c3638f6a"
   }
  }
 },
 "nbformat": 4,
 "nbformat_minor": 2
}
