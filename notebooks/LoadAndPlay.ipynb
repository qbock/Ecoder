{
 "cells": [
  {
   "cell_type": "code",
   "execution_count": 1,
   "metadata": {},
   "outputs": [],
   "source": [
    "import pandas as pd\n",
    "import matplotlib.pyplot as plt\n",
    "import numpy as np\n",
    "\n",
    "from tensorflow.keras.models import model_from_json\n",
    "import pandas as pd\n",
    "import numpy as np\n"
   ]
  },
  {
   "cell_type": "code",
   "execution_count": 2,
   "metadata": {},
   "outputs": [],
   "source": [
    "from qDenseCNN import qDenseCNN\n",
    "from denseCNN import denseCNN"
   ]
  },
  {
   "cell_type": "code",
   "execution_count": 7,
   "metadata": {},
   "outputs": [],
   "source": [
    "f_model = './models/may8_2elink_16out9b1_6b1weights.json'\n",
    "\n",
    "with open(f_model, 'r') as f:\n",
    "    model = model_from_json(f.read())\n",
    "    hdf5  = f_model.replace('json','hdf5')\n",
    "    model.load_weights(hdf5)\n",
    "    encoder = model.get_layer('encoder')"
   ]
  },
  {
   "cell_type": "code",
   "execution_count": 5,
   "metadata": {},
   "outputs": [
    {
     "name": "stdout",
     "output_type": "stream",
     "text": [
      "Model: \"autoencoder\"\n",
      "_________________________________________________________________\n",
      "Layer (type)                 Output Shape              Param #   \n",
      "=================================================================\n",
      "input_1 (InputLayer)         [(None, 4, 4, 3)]         0         \n",
      "_________________________________________________________________\n",
      "encoder (Model)              (None, 16)                2288      \n",
      "_________________________________________________________________\n",
      "decoder (Model)              (None, 4, 4, 3)           2979      \n",
      "=================================================================\n",
      "Total params: 5,267\n",
      "Trainable params: 5,267\n",
      "Non-trainable params: 0\n",
      "_________________________________________________________________\n"
     ]
    }
   ],
   "source": [
    "model.summary()"
   ]
  },
  {
   "cell_type": "code",
   "execution_count": 5,
   "metadata": {},
   "outputs": [],
   "source": [
    "model.predict()"
   ]
  },
  {
   "cell_type": "code",
   "execution_count": 15,
   "metadata": {},
   "outputs": [],
   "source": [
    "x = np.arange(48*1).reshape(1,4,4,3)/48"
   ]
  },
  {
   "cell_type": "code",
   "execution_count": 16,
   "metadata": {},
   "outputs": [
    {
     "data": {
      "text/plain": [
       "array([[[[0.04414044, 0.04441724, 0.04568936],\n",
       "         [0.00941857, 0.01821102, 0.01330955],\n",
       "         [0.00865584, 0.01849335, 0.01057169],\n",
       "         [0.04219067, 0.07880833, 0.02802121]],\n",
       "\n",
       "        [[0.01352916, 0.00785551, 0.01507812],\n",
       "         [0.00182201, 0.00168226, 0.00231803],\n",
       "         [0.00174274, 0.00166801, 0.00214969],\n",
       "         [0.02414048, 0.01759765, 0.01052881]],\n",
       "\n",
       "        [[0.01279718, 0.00721823, 0.01415718],\n",
       "         [0.00179776, 0.00173255, 0.00248721],\n",
       "         [0.00208465, 0.00173243, 0.00246202],\n",
       "         [0.0291356 , 0.01767815, 0.01356784]],\n",
       "\n",
       "        [[0.04160907, 0.03380383, 0.04148263],\n",
       "         [0.01041995, 0.01087462, 0.01352253],\n",
       "         [0.01185608, 0.0128911 , 0.01411163],\n",
       "         [0.06169175, 0.06074388, 0.04742397]]]], dtype=float32)"
      ]
     },
     "execution_count": 16,
     "metadata": {},
     "output_type": "execute_result"
    }
   ],
   "source": [
    "model.predict(x)"
   ]
  },
  {
   "cell_type": "code",
   "execution_count": 18,
   "metadata": {},
   "outputs": [
    {
     "data": {
      "text/plain": [
       "array([[0.        , 0.        , 0.        , 0.25988823, 0.11944462,\n",
       "        0.        , 0.12721343, 0.33045378, 0.        , 0.16814393,\n",
       "        0.        , 0.4574459 , 0.        , 0.        , 0.        ,\n",
       "        0.13870119]], dtype=float32)"
      ]
     },
     "execution_count": 18,
     "metadata": {},
     "output_type": "execute_result"
    }
   ],
   "source": [
    "encoder.predict(x)"
   ]
  },
  {
   "cell_type": "code",
   "execution_count": null,
   "metadata": {},
   "outputs": [],
   "source": []
  }
 ],
 "metadata": {
  "kernelspec": {
   "display_name": "Python 3",
   "language": "python",
   "name": "python3"
  },
  "language_info": {
   "codemirror_mode": {
    "name": "ipython",
    "version": 3
   },
   "file_extension": ".py",
   "mimetype": "text/x-python",
   "name": "python",
   "nbconvert_exporter": "python",
   "pygments_lexer": "ipython3",
   "version": "3.8.2"
  }
 },
 "nbformat": 4,
 "nbformat_minor": 2
}
