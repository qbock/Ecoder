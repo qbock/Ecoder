{
 "cells": [
  {
   "cell_type": "code",
   "execution_count": 1,
   "metadata": {},
   "outputs": [],
   "source": [
    "import numpy as np\n",
    "import math\n",
    "\n",
    "import sys\n",
    "sys.path.insert(0, \"../\")\n",
    "\n",
    "from denseCNN import denseCNN"
   ]
  },
  {
   "cell_type": "code",
   "execution_count": 2,
   "metadata": {},
   "outputs": [],
   "source": [
    "arrange8x8 = np.array([\n",
    "    28,29,30,31,0,4,8,12,\n",
    "    24,25,26,27,1,5,9,13,\n",
    "    20,21,22,23,2,6,10,14,\n",
    "    16,17,18,19,3,7,11,15,\n",
    "    47,43,39,35,35,34,33,32,\n",
    "    46,42,38,34,39,38,37,36,\n",
    "    45,41,37,33,43,42,41,40,\n",
    "    44,40,36,32,47,46,45,44])\n",
    "arrMask  =  np.array([\n",
    "    1,1,1,1,1,1,1,1,\n",
    "    1,1,1,1,1,1,1,1,\n",
    "    1,1,1,1,1,1,1,1,           \n",
    "    1,1,1,1,1,1,1,1,           \n",
    "    1,1,1,1,0,0,0,0,\n",
    "    1,1,1,1,0,0,1,0,\n",
    "    1,1,1,1,0,0,0,0,\n",
    "    1,1,1,1,0,1,0,0,]) \n",
    "calQMask  =  np.array([\n",
    "    1,1,1,1,1,1,1,1,\n",
    "    1,1,1,1,1,1,1,1,\n",
    "    1,1,1,1,1,1,1,1,           \n",
    "    1,1,1,1,1,1,1,1,           \n",
    "    1,1,1,1,0,0,0,0,\n",
    "    1,1,1,1,0,0,0,0,\n",
    "    1,1,1,1,0,0,0,0,\n",
    "    1,1,1,1,0,0,0,0,]) \n",
    "\n",
    "f_raw = '../SampleSplitting_SignalAllocation/nElinks_5/ttbar_v11_eolNoise_Layer9_5Links.csv'\n",
    "calQ     = np.genfromtxt(f_raw, delimiter=',',usecols=[*range(0, 48)],skip_header=1,max_rows=100)\n",
    "sumQ     = calQ.sum(axis=1)\n",
    "calQ     = calQ[sumQ>0]\n",
    "sumQ     = sumQ[sumQ>0]\n",
    "\n",
    "inputQf_48_arr   = np.array([calQ[i]/s for i,s in enumerate(sumQ)])[:,arrange8x8]  \n",
    "inputQf_48_arr_mask   = np.array([calQ[i]/s for i,s in enumerate(sumQ)])[:,arrange8x8]  \n",
    "inputQf_48_arr_mask[:,arrMask==0]=0"
   ]
  },
  {
   "cell_type": "code",
   "execution_count": 3,
   "metadata": {},
   "outputs": [
    {
     "name": "stdout",
     "output_type": "stream",
     "text": [
      "Before mask\n",
      "[[0.    0.    0.    0.    0.    0.    0.    0.   ]\n",
      " [0.    0.    0.    0.    0.    0.    0.    0.   ]\n",
      " [0.    0.    0.    0.    0.    0.    0.    0.   ]\n",
      " [0.    0.    0.    0.286 0.    0.    0.    0.   ]\n",
      " [0.    0.    0.    0.    0.    0.286 0.    0.   ]\n",
      " [0.    0.214 0.    0.286 0.    0.    0.    0.   ]\n",
      " [0.214 0.    0.    0.    0.    0.214 0.    0.   ]\n",
      " [0.    0.    0.    0.    0.    0.    0.214 0.   ]]\n",
      "After mask\n",
      "[[0.    0.    0.    0.    0.    0.    0.    0.   ]\n",
      " [0.    0.    0.    0.    0.    0.    0.    0.   ]\n",
      " [0.    0.    0.    0.    0.    0.    0.    0.   ]\n",
      " [0.    0.    0.    0.286 0.    0.    0.    0.   ]\n",
      " [0.    0.    0.    0.    0.    0.    0.    0.   ]\n",
      " [0.    0.214 0.    0.286 0.    0.    0.    0.   ]\n",
      " [0.214 0.    0.    0.    0.    0.    0.    0.   ]\n",
      " [0.    0.    0.    0.    0.    0.    0.    0.   ]]\n"
     ]
    }
   ],
   "source": [
    "print(\"Before mask\")\n",
    "print(np.round(inputQf_48_arr[1].reshape(8,8),3))\n",
    "print(\"After mask\")\n",
    "print(np.round(inputQf_48_arr_mask[1].reshape(8,8),3))\n"
   ]
  },
  {
   "cell_type": "code",
   "execution_count": 54,
   "metadata": {},
   "outputs": [
    {
     "name": "stdout",
     "output_type": "stream",
     "text": [
      "Model: \"encoder\"\n",
      "_________________________________________________________________\n",
      "Layer (type)                 Output Shape              Param #   \n",
      "=================================================================\n",
      "input_4 (InputLayer)         [(None, 8, 8, 1)]         0         \n",
      "_________________________________________________________________\n",
      "conv2d_3 (Conv2D)            (None, 8, 8, 8)           80        \n",
      "_________________________________________________________________\n",
      "flatten_3 (Flatten)          (None, 512)               0         \n",
      "_________________________________________________________________\n",
      "encoded_vector (Dense)       (None, 16)                8208      \n",
      "=================================================================\n",
      "Total params: 8,288\n",
      "Trainable params: 8,288\n",
      "Non-trainable params: 0\n",
      "_________________________________________________________________\n",
      "Model: \"decoder\"\n",
      "_________________________________________________________________\n",
      "Layer (type)                 Output Shape              Param #   \n",
      "=================================================================\n",
      "decoder_input (InputLayer)   [(None, 16)]              0         \n",
      "_________________________________________________________________\n",
      "dense_3 (Dense)              (None, 512)               8704      \n",
      "_________________________________________________________________\n",
      "reshape_3 (Reshape)          (None, 8, 8, 8)           0         \n",
      "_________________________________________________________________\n",
      "conv2d_transpose_6 (Conv2DTr (None, 8, 8, 8)           584       \n",
      "_________________________________________________________________\n",
      "conv2d_transpose_7 (Conv2DTr (None, 8, 8, 1)           73        \n",
      "_________________________________________________________________\n",
      "decoder_output (Activation)  (None, 8, 8, 1)           0         \n",
      "=================================================================\n",
      "Total params: 9,361\n",
      "Trainable params: 9,361\n",
      "Non-trainable params: 0\n",
      "_________________________________________________________________\n",
      "Model: \"autoencoder\"\n",
      "_________________________________________________________________\n",
      "Layer (type)                 Output Shape              Param #   \n",
      "=================================================================\n",
      "input_4 (InputLayer)         [(None, 8, 8, 1)]         0         \n",
      "_________________________________________________________________\n",
      "encoder (Model)              (None, 16)                8288      \n",
      "_________________________________________________________________\n",
      "decoder (Model)              (None, 8, 8, 1)           9361      \n",
      "=================================================================\n",
      "Total params: 17,649\n",
      "Trainable params: 17,649\n",
      "Non-trainable params: 0\n",
      "_________________________________________________________________\n"
     ]
    }
   ],
   "source": [
    "m = denseCNN()\n",
    "m.setpams({\n",
    "    'arrMask':arrMask,'arrange':arrange8x8,\n",
    "     'shape':(8,8,1),'channels_first':False,'encoded_dim':16})\n",
    "m.init()"
   ]
  },
  {
   "cell_type": "code",
   "execution_count": 67,
   "metadata": {},
   "outputs": [],
   "source": [
    "x = m.predict(np.arange(64).reshape(1,8,8,1))"
   ]
  },
  {
   "cell_type": "code",
   "execution_count": 68,
   "metadata": {},
   "outputs": [
    {
     "data": {
      "text/plain": [
       "array([[ 0,  1,  2,  3,  4,  5,  6,  7],\n",
       "       [ 8,  9, 10, 11, 12, 13, 14, 15],\n",
       "       [16, 17, 18, 19, 20, 21, 22, 23],\n",
       "       [24, 25, 26, 27, 28, 29, 30, 31],\n",
       "       [32, 33, 34, 35, 36, 37, 38, 39],\n",
       "       [40, 41, 42, 43, 44, 45, 46, 47],\n",
       "       [48, 49, 50, 51, 52, 53, 54, 55],\n",
       "       [56, 57, 58, 59, 60, 61, 62, 63]])"
      ]
     },
     "execution_count": 68,
     "metadata": {},
     "output_type": "execute_result"
    }
   ],
   "source": [
    "x[0].reshape(8,8)"
   ]
  },
  {
   "cell_type": "code",
   "execution_count": 69,
   "metadata": {},
   "outputs": [
    {
     "data": {
      "text/plain": [
       "array([ 0,  1,  2,  3,  4,  5,  6,  7,  8,  9, 10, 11, 12, 13, 14, 15, 16,\n",
       "       17, 18, 19, 20, 21, 22, 23, 24, 25, 26, 27, 28, 29, 30, 31, 32, 33,\n",
       "       34, 35, 41, 42, 43, 48, 49, 50, 51, 56, 57, 58, 59, 61])"
      ]
     },
     "execution_count": 69,
     "metadata": {},
     "output_type": "execute_result"
    }
   ],
   "source": [
    "np.unique(m.mapToCalQ(x[0]).reshape(3,4,4))"
   ]
  },
  {
   "cell_type": "code",
   "execution_count": 75,
   "metadata": {},
   "outputs": [
    {
     "name": "stdout",
     "output_type": "stream",
     "text": [
      "[28 29 30 31  0  4  8 12 24 25 26 27  1  5  9 13 20 21 22 23  2  6 10 14\n",
      " 16 17 18 19  3  7 11 15 47 43 39 35 35 34 33 32 46 42 38 34 39 38 37 36\n",
      " 45 41 37 33 43 42 41 40 44 40 36 32 47 46 45 44]\n"
     ]
    },
    {
     "data": {
      "text/plain": [
       "array([ 4, 12, 20, 28,  5, 13, 21, 29,  6, 14, 22, 30,  7, 15, 23, 31, 24,\n",
       "       25, 26, 27, 16, 17, 18, 19,  8,  9, 10, 11,  0,  1,  2,  3, 59, 51,\n",
       "       43, 35, 58, 50, 42, 34, 57, 49, 41, 33, 56, 48, 61, 32])"
      ]
     },
     "execution_count": 75,
     "metadata": {},
     "output_type": "execute_result"
    }
   ],
   "source": [
    "print(arrange8x8)\n",
    "m.invertArrange(arrange8x8,arrMask)"
   ]
  },
  {
   "cell_type": "code",
   "execution_count": 8,
   "metadata": {},
   "outputs": [],
   "source": [
    "def invertArrange(arrange,arrMask=[],calQMask=[]):\n",
    "    remap =[]\n",
    "    hashmap = {}  ## cell:index mapping\n",
    "    ##Valid arrange check\n",
    "    if not np.all(np.unique(arrange)==np.arange(48)):\n",
    "        raise ValueError(\"Found cell location with number > 48. Please check your arrange:\",arrange)\n",
    "    foundDuplicateCharge = False\n",
    "    if len(arrMask)==0:\n",
    "        if len(arrange)>len(np.unique(arrange)):\n",
    "            foundDuplicateCharge=True\n",
    "    else:\n",
    "        if len(arrange[arrMask==1])>len(np.unique(arrange[arrMask==1])):\n",
    "            foundDuplicateCharge=True\n",
    "\n",
    "    if foundDuplicateCharge and len(calQMask)==0:\n",
    "        raise ValueError(\"Found duplicated charge arrangement, but did not specify calQmask\")  \n",
    "        \n",
    "    for i in range(len(arrange)):\n",
    "        if len(arrMask)>0 :\n",
    "            ## fill hashmap only if arrMask allows it\n",
    "            if arrMask[i]==1:   \n",
    "                if(foundDuplicateCharge and calQMask[i]==1):\n",
    "                    ## fill hashmap only if calQMask allows it\n",
    "                    hashmap[arrange[i]]=i                    \n",
    "        else:\n",
    "            hashmap[arrange[i]]=i\n",
    "    for i in range(len(np.unique(arrange))):\n",
    "        remap.append(hashmap[i])\n",
    "    return np.array(remap)"
   ]
  },
  {
   "cell_type": "code",
   "execution_count": 9,
   "metadata": {},
   "outputs": [],
   "source": [
    "arrange8x8 = np.array([\n",
    "    28,29,30,31,0,4,8,12,\n",
    "    24,25,26,27,1,5,9,13,\n",
    "    20,21,22,23,2,6,10,14,\n",
    "    16,17,18,19,3,7,11,15,\n",
    "    47,43,39,35,35,34,33,32,\n",
    "    46,42,38,34,39,38,37,36,\n",
    "    45,41,37,33,43,42,41,40,\n",
    "    44,40,36,32,47,46,45,44])\n",
    "arrMask  =  np.array([\n",
    "    1,1,1,1,1,1,1,1,\n",
    "    1,1,1,1,1,1,1,1,\n",
    "    1,1,1,1,1,1,1,1,           \n",
    "    1,1,1,1,1,1,1,1,           \n",
    "    1,1,1,1,0,0,0,0,\n",
    "    1,1,1,1,0,0,1,0,\n",
    "    1,1,1,1,0,0,0,0,\n",
    "    1,1,1,1,0,1,0,0,]) \n",
    "calQMask  =  np.array([\n",
    "    1,1,1,1,1,1,1,1,\n",
    "    1,1,1,1,1,1,1,1,\n",
    "    1,1,1,1,1,1,1,1,           \n",
    "    1,1,1,1,1,1,1,1,           \n",
    "    1,1,1,1,0,0,0,0,\n",
    "    1,1,1,1,0,0,0,0,\n",
    "    1,1,1,1,0,0,0,0,\n",
    "    1,1,1,1,0,0,0,0,]) \n",
    "remap = invertArrange(arrange8x8,arrMask,calQMask)\n"
   ]
  },
  {
   "cell_type": "code",
   "execution_count": 189,
   "metadata": {},
   "outputs": [
    {
     "name": "stdout",
     "output_type": "stream",
     "text": [
      "before map\n",
      "[[ 0  1  2  3  4  5  6  7]\n",
      " [ 8  9 10 11 12 13 14 15]\n",
      " [16 17 18 19 20 21 22 23]\n",
      " [24 25 26 27 28 29 30 31]\n",
      " [32 33 34 35 36 37 38 39]\n",
      " [40 41 42 43 44 45 46 47]]\n",
      "After map (physical localtion)\n",
      "[[28 29 30 31  0  4  8 12]\n",
      " [24 25 26 27  1  5  9 13]\n",
      " [20 21 22 23  2  6 10 14]\n",
      " [16 17 18 19  3  7 11 15]\n",
      " [47 43 39 35 35 34 33 32]\n",
      " [46 42 38 34 39 38 37 36]\n",
      " [45 41 37 33 43 42 41 40]\n",
      " [44 40 36 32 47 46 45 44]]\n",
      "After mask\n",
      "[[28 29 30 31  0  4  8 12]\n",
      " [24 25 26 27  1  5  9 13]\n",
      " [20 21 22 23  2  6 10 14]\n",
      " [16 17 18 19  3  7 11 15]\n",
      " [47 43 39 35  0  0  0  0]\n",
      " [46 42 38 34  0  0 37  0]\n",
      " [45 41 37 33  0  0  0  0]\n",
      " [44 40 36 32  0 46  0  0]]\n",
      "After remap\n",
      "48\n",
      "[[ 0  1  2  3  4  5  6  7]\n",
      " [ 8  9 10 11 12 13 14 15]\n",
      " [16 17 18 19 20 21 22 23]\n",
      " [24 25 26 27 28 29 30 31]\n",
      " [32 33 34 35 36 37 38 39]\n",
      " [40 41 42 43 44 45 46 47]]\n"
     ]
    }
   ],
   "source": [
    "print('before map')\n",
    "print(np.arange(48).reshape(6,8))\n",
    "print('After map (physical localtion)')\n",
    "print(np.arange(48)[arrange8x8].reshape(8,8))\n",
    "print('After mask')\n",
    "x = np.arange(64)[arrange8x8]\n",
    "x[arrMask==0]=0\n",
    "print(x.reshape(8,8))\n",
    "\n",
    "print('After remap')\n",
    "print(len(np.arange(64)[remap]))\n",
    "print(x[remap].reshape(6,8))"
   ]
  },
  {
   "cell_type": "code",
   "execution_count": 7,
   "metadata": {},
   "outputs": [
    {
     "data": {
      "text/plain": [
       "True"
      ]
     },
     "execution_count": 7,
     "metadata": {},
     "output_type": "execute_result"
    }
   ],
   "source": [
    "np.count_nonzero(calQMask)==48"
   ]
  },
  {
   "cell_type": "code",
   "execution_count": null,
   "metadata": {},
   "outputs": [],
   "source": []
  }
 ],
 "metadata": {
  "kernelspec": {
   "display_name": "Python 3",
   "language": "python",
   "name": "python3"
  },
  "language_info": {
   "codemirror_mode": {
    "name": "ipython",
    "version": 3
   },
   "file_extension": ".py",
   "mimetype": "text/x-python",
   "name": "python",
   "nbconvert_exporter": "python",
   "pygments_lexer": "ipython3",
   "version": "3.8.2"
  }
 },
 "nbformat": 4,
 "nbformat_minor": 2
}
