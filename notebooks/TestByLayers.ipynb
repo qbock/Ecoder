{
 "cells": [
  {
   "cell_type": "code",
   "execution_count": 14,
   "metadata": {},
   "outputs": [],
   "source": [
    "import pandas as pd\n",
    "import matplotlib.pyplot as plt\n",
    "import numpy as np\n",
    "\n",
    "from tensorflow.keras.models import model_from_json\n",
    "import pandas as pd\n",
    "import numpy as np\n",
    "import tensorflow as tf\n",
    "\n",
    "import sys\n",
    "sys.path.insert(0, \"../\")"
   ]
  },
  {
   "cell_type": "code",
   "execution_count": 2,
   "metadata": {},
   "outputs": [],
   "source": [
    "def loadModel(f_model):\n",
    "    with open(f_model,'r') as f:\n",
    "        if 'QActivation' in f.read():\n",
    "            from qkeras import QDense, QConv2D, QActivation,quantized_bits,Clip,QInitializer\n",
    "            f.seek(0)\n",
    "            model = model_from_json(f.read(),\n",
    "                                    custom_objects={'QActivation':QActivation,\n",
    "                                                    'quantized_bits':quantized_bits,\n",
    "                                                    'QConv2D':QConv2D,\n",
    "                                                    'QDense':QDense,\n",
    "                                                    'Clip':Clip,\n",
    "                                                    'QInitializer':QInitializer})\n",
    "            hdf5  = f_model.replace('json','hdf5')\n",
    "            model.load_weights(hdf5)\n",
    "        else:\n",
    "            f.seek(0)\n",
    "            model = model_from_json(f.read())\n",
    "            hdf5  = f_model.replace('json','hdf5')\n",
    "        model.load_weights(hdf5)\n",
    "        encoder = model.get_layer('encoder')\n",
    "        decoder = model.get_layer('decoder')\n",
    "    return encoder,decoder,model"
   ]
  },
  {
   "cell_type": "code",
   "execution_count": 252,
   "metadata": {},
   "outputs": [],
   "source": [
    "#model_folder = '../V11/signal/nElinks_2/Jul24_16out3b1_5b1weights_Input10b3i_Accum11b3i_Weight5b1i_Encod3b1i/'\n",
    "model_folder = '../V11/signal/nElinks_2/Aug14_qKeras_optA/'\n",
    "model_name = model_folder.split('/')[-2]\n",
    "f_model = model_folder+'/'+model_name+\".json\"\n",
    "verify_input  = model_folder+'verify_input.csv'\n",
    "verify_output = model_folder+'verify_output.csv'\n",
    "\n",
    "from numpy import genfromtxt\n",
    "vinput  = genfromtxt(verify_input, delimiter=',')\n",
    "voutput = genfromtxt(verify_output, delimiter=',')"
   ]
  },
  {
   "cell_type": "code",
   "execution_count": 253,
   "metadata": {},
   "outputs": [
    {
     "name": "stdout",
     "output_type": "stream",
     "text": [
      "WARNING:tensorflow:AutoGraph could not transform <bound method QActivation.call of <qkeras.qlayers.QActivation object at 0x7f16ef490c10>> and will run it as-is.\n",
      "Please report this to the TensorFlow team. When filing the bug, set the verbosity to 10 (on Linux, `export AUTOGRAPH_VERBOSITY=10`) and attach the full output.\n",
      "Cause: Bad argument number for Name: 3, expecting 4\n"
     ]
    },
    {
     "name": "stderr",
     "output_type": "stream",
     "text": [
      "WARNING:tensorflow:AutoGraph could not transform <bound method QActivation.call of <qkeras.qlayers.QActivation object at 0x7f16ef490c10>> and will run it as-is.\n",
      "Please report this to the TensorFlow team. When filing the bug, set the verbosity to 10 (on Linux, `export AUTOGRAPH_VERBOSITY=10`) and attach the full output.\n",
      "Cause: Bad argument number for Name: 3, expecting 4\n"
     ]
    },
    {
     "name": "stdout",
     "output_type": "stream",
     "text": [
      "WARNING: AutoGraph could not transform <bound method QActivation.call of <qkeras.qlayers.QActivation object at 0x7f16ef490c10>> and will run it as-is.\n",
      "Please report this to the TensorFlow team. When filing the bug, set the verbosity to 10 (on Linux, `export AUTOGRAPH_VERBOSITY=10`) and attach the full output.\n",
      "Cause: Bad argument number for Name: 3, expecting 4\n",
      "WARNING:tensorflow:AutoGraph could not transform <bound method QConv2D.call of <qkeras.qconvolutional.QConv2D object at 0x7f16ed55c430>> and will run it as-is.\n",
      "Please report this to the TensorFlow team. When filing the bug, set the verbosity to 10 (on Linux, `export AUTOGRAPH_VERBOSITY=10`) and attach the full output.\n",
      "Cause: Bad argument number for Name: 3, expecting 4\n"
     ]
    },
    {
     "name": "stderr",
     "output_type": "stream",
     "text": [
      "WARNING:tensorflow:AutoGraph could not transform <bound method QConv2D.call of <qkeras.qconvolutional.QConv2D object at 0x7f16ed55c430>> and will run it as-is.\n",
      "Please report this to the TensorFlow team. When filing the bug, set the verbosity to 10 (on Linux, `export AUTOGRAPH_VERBOSITY=10`) and attach the full output.\n",
      "Cause: Bad argument number for Name: 3, expecting 4\n"
     ]
    },
    {
     "name": "stdout",
     "output_type": "stream",
     "text": [
      "WARNING: AutoGraph could not transform <bound method QConv2D.call of <qkeras.qconvolutional.QConv2D object at 0x7f16ed55c430>> and will run it as-is.\n",
      "Please report this to the TensorFlow team. When filing the bug, set the verbosity to 10 (on Linux, `export AUTOGRAPH_VERBOSITY=10`) and attach the full output.\n",
      "Cause: Bad argument number for Name: 3, expecting 4\n",
      "WARNING:tensorflow:AutoGraph could not transform <bound method QActivation.call of <qkeras.qlayers.QActivation object at 0x7f16edb24760>> and will run it as-is.\n",
      "Please report this to the TensorFlow team. When filing the bug, set the verbosity to 10 (on Linux, `export AUTOGRAPH_VERBOSITY=10`) and attach the full output.\n",
      "Cause: Bad argument number for Name: 3, expecting 4\n"
     ]
    },
    {
     "name": "stderr",
     "output_type": "stream",
     "text": [
      "WARNING:tensorflow:AutoGraph could not transform <bound method QActivation.call of <qkeras.qlayers.QActivation object at 0x7f16edb24760>> and will run it as-is.\n",
      "Please report this to the TensorFlow team. When filing the bug, set the verbosity to 10 (on Linux, `export AUTOGRAPH_VERBOSITY=10`) and attach the full output.\n",
      "Cause: Bad argument number for Name: 3, expecting 4\n"
     ]
    },
    {
     "name": "stdout",
     "output_type": "stream",
     "text": [
      "WARNING: AutoGraph could not transform <bound method QActivation.call of <qkeras.qlayers.QActivation object at 0x7f16edb24760>> and will run it as-is.\n",
      "Please report this to the TensorFlow team. When filing the bug, set the verbosity to 10 (on Linux, `export AUTOGRAPH_VERBOSITY=10`) and attach the full output.\n",
      "Cause: Bad argument number for Name: 3, expecting 4\n",
      "WARNING:tensorflow:AutoGraph could not transform <bound method QDense.call of <qkeras.qlayers.QDense object at 0x7f16edb24160>> and will run it as-is.\n",
      "Please report this to the TensorFlow team. When filing the bug, set the verbosity to 10 (on Linux, `export AUTOGRAPH_VERBOSITY=10`) and attach the full output.\n",
      "Cause: Bad argument number for Name: 3, expecting 4\n"
     ]
    },
    {
     "name": "stderr",
     "output_type": "stream",
     "text": [
      "WARNING:tensorflow:AutoGraph could not transform <bound method QDense.call of <qkeras.qlayers.QDense object at 0x7f16edb24160>> and will run it as-is.\n",
      "Please report this to the TensorFlow team. When filing the bug, set the verbosity to 10 (on Linux, `export AUTOGRAPH_VERBOSITY=10`) and attach the full output.\n",
      "Cause: Bad argument number for Name: 3, expecting 4\n"
     ]
    },
    {
     "name": "stdout",
     "output_type": "stream",
     "text": [
      "WARNING: AutoGraph could not transform <bound method QDense.call of <qkeras.qlayers.QDense object at 0x7f16edb24160>> and will run it as-is.\n",
      "Please report this to the TensorFlow team. When filing the bug, set the verbosity to 10 (on Linux, `export AUTOGRAPH_VERBOSITY=10`) and attach the full output.\n",
      "Cause: Bad argument number for Name: 3, expecting 4\n",
      "WARNING:tensorflow:AutoGraph could not transform <bound method QActivation.call of <qkeras.qlayers.QActivation object at 0x7f16edadd6d0>> and will run it as-is.\n",
      "Please report this to the TensorFlow team. When filing the bug, set the verbosity to 10 (on Linux, `export AUTOGRAPH_VERBOSITY=10`) and attach the full output.\n",
      "Cause: Bad argument number for Name: 3, expecting 4\n"
     ]
    },
    {
     "name": "stderr",
     "output_type": "stream",
     "text": [
      "WARNING:tensorflow:AutoGraph could not transform <bound method QActivation.call of <qkeras.qlayers.QActivation object at 0x7f16edadd6d0>> and will run it as-is.\n",
      "Please report this to the TensorFlow team. When filing the bug, set the verbosity to 10 (on Linux, `export AUTOGRAPH_VERBOSITY=10`) and attach the full output.\n",
      "Cause: Bad argument number for Name: 3, expecting 4\n"
     ]
    },
    {
     "name": "stdout",
     "output_type": "stream",
     "text": [
      "WARNING: AutoGraph could not transform <bound method QActivation.call of <qkeras.qlayers.QActivation object at 0x7f16edadd6d0>> and will run it as-is.\n",
      "Please report this to the TensorFlow team. When filing the bug, set the verbosity to 10 (on Linux, `export AUTOGRAPH_VERBOSITY=10`) and attach the full output.\n",
      "Cause: Bad argument number for Name: 3, expecting 4\n",
      "WARNING:tensorflow:AutoGraph could not transform <bound method QActivation.call of <qkeras.qlayers.QActivation object at 0x7f16edac94f0>> and will run it as-is.\n",
      "Please report this to the TensorFlow team. When filing the bug, set the verbosity to 10 (on Linux, `export AUTOGRAPH_VERBOSITY=10`) and attach the full output.\n",
      "Cause: Bad argument number for Name: 3, expecting 4\n"
     ]
    },
    {
     "name": "stderr",
     "output_type": "stream",
     "text": [
      "WARNING:tensorflow:AutoGraph could not transform <bound method QActivation.call of <qkeras.qlayers.QActivation object at 0x7f16edac94f0>> and will run it as-is.\n",
      "Please report this to the TensorFlow team. When filing the bug, set the verbosity to 10 (on Linux, `export AUTOGRAPH_VERBOSITY=10`) and attach the full output.\n",
      "Cause: Bad argument number for Name: 3, expecting 4\n"
     ]
    },
    {
     "name": "stdout",
     "output_type": "stream",
     "text": [
      "WARNING: AutoGraph could not transform <bound method QActivation.call of <qkeras.qlayers.QActivation object at 0x7f16edac94f0>> and will run it as-is.\n",
      "Please report this to the TensorFlow team. When filing the bug, set the verbosity to 10 (on Linux, `export AUTOGRAPH_VERBOSITY=10`) and attach the full output.\n",
      "Cause: Bad argument number for Name: 3, expecting 4\n",
      "WARNING:tensorflow:AutoGraph could not transform <bound method QActivation.call of <qkeras.qlayers.QActivation object at 0x7f16ef490c10>> and will run it as-is.\n",
      "Please report this to the TensorFlow team. When filing the bug, set the verbosity to 10 (on Linux, `export AUTOGRAPH_VERBOSITY=10`) and attach the full output.\n",
      "Cause: Bad argument number for Name: 3, expecting 4\n"
     ]
    },
    {
     "name": "stderr",
     "output_type": "stream",
     "text": [
      "WARNING:tensorflow:AutoGraph could not transform <bound method QActivation.call of <qkeras.qlayers.QActivation object at 0x7f16ef490c10>> and will run it as-is.\n",
      "Please report this to the TensorFlow team. When filing the bug, set the verbosity to 10 (on Linux, `export AUTOGRAPH_VERBOSITY=10`) and attach the full output.\n",
      "Cause: Bad argument number for Name: 3, expecting 4\n"
     ]
    },
    {
     "name": "stdout",
     "output_type": "stream",
     "text": [
      "WARNING: AutoGraph could not transform <bound method QActivation.call of <qkeras.qlayers.QActivation object at 0x7f16ef490c10>> and will run it as-is.\n",
      "Please report this to the TensorFlow team. When filing the bug, set the verbosity to 10 (on Linux, `export AUTOGRAPH_VERBOSITY=10`) and attach the full output.\n",
      "Cause: Bad argument number for Name: 3, expecting 4\n",
      "WARNING:tensorflow:AutoGraph could not transform <bound method QConv2D.call of <qkeras.qconvolutional.QConv2D object at 0x7f16ed55c430>> and will run it as-is.\n",
      "Please report this to the TensorFlow team. When filing the bug, set the verbosity to 10 (on Linux, `export AUTOGRAPH_VERBOSITY=10`) and attach the full output.\n",
      "Cause: Bad argument number for Name: 3, expecting 4\n"
     ]
    },
    {
     "name": "stderr",
     "output_type": "stream",
     "text": [
      "WARNING:tensorflow:AutoGraph could not transform <bound method QConv2D.call of <qkeras.qconvolutional.QConv2D object at 0x7f16ed55c430>> and will run it as-is.\n",
      "Please report this to the TensorFlow team. When filing the bug, set the verbosity to 10 (on Linux, `export AUTOGRAPH_VERBOSITY=10`) and attach the full output.\n",
      "Cause: Bad argument number for Name: 3, expecting 4\n"
     ]
    },
    {
     "name": "stdout",
     "output_type": "stream",
     "text": [
      "WARNING: AutoGraph could not transform <bound method QConv2D.call of <qkeras.qconvolutional.QConv2D object at 0x7f16ed55c430>> and will run it as-is.\n",
      "Please report this to the TensorFlow team. When filing the bug, set the verbosity to 10 (on Linux, `export AUTOGRAPH_VERBOSITY=10`) and attach the full output.\n",
      "Cause: Bad argument number for Name: 3, expecting 4\n",
      "WARNING:tensorflow:AutoGraph could not transform <bound method QActivation.call of <qkeras.qlayers.QActivation object at 0x7f16edb24760>> and will run it as-is.\n",
      "Please report this to the TensorFlow team. When filing the bug, set the verbosity to 10 (on Linux, `export AUTOGRAPH_VERBOSITY=10`) and attach the full output.\n",
      "Cause: Bad argument number for Name: 3, expecting 4\n"
     ]
    },
    {
     "name": "stderr",
     "output_type": "stream",
     "text": [
      "WARNING:tensorflow:AutoGraph could not transform <bound method QActivation.call of <qkeras.qlayers.QActivation object at 0x7f16edb24760>> and will run it as-is.\n",
      "Please report this to the TensorFlow team. When filing the bug, set the verbosity to 10 (on Linux, `export AUTOGRAPH_VERBOSITY=10`) and attach the full output.\n",
      "Cause: Bad argument number for Name: 3, expecting 4\n"
     ]
    },
    {
     "name": "stdout",
     "output_type": "stream",
     "text": [
      "WARNING: AutoGraph could not transform <bound method QActivation.call of <qkeras.qlayers.QActivation object at 0x7f16edb24760>> and will run it as-is.\n",
      "Please report this to the TensorFlow team. When filing the bug, set the verbosity to 10 (on Linux, `export AUTOGRAPH_VERBOSITY=10`) and attach the full output.\n",
      "Cause: Bad argument number for Name: 3, expecting 4\n",
      "WARNING:tensorflow:AutoGraph could not transform <bound method QDense.call of <qkeras.qlayers.QDense object at 0x7f16edb24160>> and will run it as-is.\n",
      "Please report this to the TensorFlow team. When filing the bug, set the verbosity to 10 (on Linux, `export AUTOGRAPH_VERBOSITY=10`) and attach the full output.\n",
      "Cause: Bad argument number for Name: 3, expecting 4\n"
     ]
    },
    {
     "name": "stderr",
     "output_type": "stream",
     "text": [
      "WARNING:tensorflow:AutoGraph could not transform <bound method QDense.call of <qkeras.qlayers.QDense object at 0x7f16edb24160>> and will run it as-is.\n",
      "Please report this to the TensorFlow team. When filing the bug, set the verbosity to 10 (on Linux, `export AUTOGRAPH_VERBOSITY=10`) and attach the full output.\n",
      "Cause: Bad argument number for Name: 3, expecting 4\n"
     ]
    },
    {
     "name": "stdout",
     "output_type": "stream",
     "text": [
      "WARNING: AutoGraph could not transform <bound method QDense.call of <qkeras.qlayers.QDense object at 0x7f16edb24160>> and will run it as-is.\n",
      "Please report this to the TensorFlow team. When filing the bug, set the verbosity to 10 (on Linux, `export AUTOGRAPH_VERBOSITY=10`) and attach the full output.\n",
      "Cause: Bad argument number for Name: 3, expecting 4\n",
      "WARNING:tensorflow:AutoGraph could not transform <bound method QActivation.call of <qkeras.qlayers.QActivation object at 0x7f16edadd6d0>> and will run it as-is.\n",
      "Please report this to the TensorFlow team. When filing the bug, set the verbosity to 10 (on Linux, `export AUTOGRAPH_VERBOSITY=10`) and attach the full output.\n",
      "Cause: Bad argument number for Name: 3, expecting 4\n"
     ]
    },
    {
     "name": "stderr",
     "output_type": "stream",
     "text": [
      "WARNING:tensorflow:AutoGraph could not transform <bound method QActivation.call of <qkeras.qlayers.QActivation object at 0x7f16edadd6d0>> and will run it as-is.\n",
      "Please report this to the TensorFlow team. When filing the bug, set the verbosity to 10 (on Linux, `export AUTOGRAPH_VERBOSITY=10`) and attach the full output.\n",
      "Cause: Bad argument number for Name: 3, expecting 4\n"
     ]
    },
    {
     "name": "stdout",
     "output_type": "stream",
     "text": [
      "WARNING: AutoGraph could not transform <bound method QActivation.call of <qkeras.qlayers.QActivation object at 0x7f16edadd6d0>> and will run it as-is.\n",
      "Please report this to the TensorFlow team. When filing the bug, set the verbosity to 10 (on Linux, `export AUTOGRAPH_VERBOSITY=10`) and attach the full output.\n",
      "Cause: Bad argument number for Name: 3, expecting 4\n",
      "WARNING:tensorflow:AutoGraph could not transform <bound method QActivation.call of <qkeras.qlayers.QActivation object at 0x7f16edac94f0>> and will run it as-is.\n",
      "Please report this to the TensorFlow team. When filing the bug, set the verbosity to 10 (on Linux, `export AUTOGRAPH_VERBOSITY=10`) and attach the full output.\n",
      "Cause: Bad argument number for Name: 3, expecting 4\n"
     ]
    },
    {
     "name": "stderr",
     "output_type": "stream",
     "text": [
      "WARNING:tensorflow:AutoGraph could not transform <bound method QActivation.call of <qkeras.qlayers.QActivation object at 0x7f16edac94f0>> and will run it as-is.\n",
      "Please report this to the TensorFlow team. When filing the bug, set the verbosity to 10 (on Linux, `export AUTOGRAPH_VERBOSITY=10`) and attach the full output.\n",
      "Cause: Bad argument number for Name: 3, expecting 4\n"
     ]
    },
    {
     "name": "stdout",
     "output_type": "stream",
     "text": [
      "WARNING: AutoGraph could not transform <bound method QActivation.call of <qkeras.qlayers.QActivation object at 0x7f16edac94f0>> and will run it as-is.\n",
      "Please report this to the TensorFlow team. When filing the bug, set the verbosity to 10 (on Linux, `export AUTOGRAPH_VERBOSITY=10`) and attach the full output.\n",
      "Cause: Bad argument number for Name: 3, expecting 4\n"
     ]
    }
   ],
   "source": [
    "#encoder,decoder,model = loadModel(f_model)\n",
    "\n",
    "encoder,decoder,model = loadModel(f_model)"
   ]
  },
  {
   "cell_type": "code",
   "execution_count": 234,
   "metadata": {
    "scrolled": true
   },
   "outputs": [
    {
     "name": "stdout",
     "output_type": "stream",
     "text": [
      "Model: \"encoder\"\n",
      "_________________________________________________________________\n",
      "Layer (type)                 Output Shape              Param #   \n",
      "=================================================================\n",
      "input_1 (InputLayer)         [(None, 4, 4, 3)]         0         \n",
      "_________________________________________________________________\n",
      "input_qa (QActivation)       (None, 4, 4, 3)           0         \n",
      "_________________________________________________________________\n",
      "conv2d_0_m (QConv2D)         (None, 4, 4, 8)           224       \n",
      "_________________________________________________________________\n",
      "accum1_qa (QActivation)      (None, 4, 4, 8)           0         \n",
      "_________________________________________________________________\n",
      "flatten (Flatten)            (None, 128)               0         \n",
      "_________________________________________________________________\n",
      "encoded_vector (QDense)      (None, 16)                2064      \n",
      "_________________________________________________________________\n",
      "encod_qa (QActivation)       (None, 16)                0         \n",
      "=================================================================\n",
      "Total params: 2,288\n",
      "Trainable params: 2,288\n",
      "Non-trainable params: 0\n",
      "_________________________________________________________________\n"
     ]
    }
   ],
   "source": [
    "encoder.summary()"
   ]
  },
  {
   "cell_type": "code",
   "execution_count": 104,
   "metadata": {},
   "outputs": [],
   "source": [
    "x = np.arange(0,48).reshape(1,4,4,3)"
   ]
  },
  {
   "cell_type": "code",
   "execution_count": 64,
   "metadata": {
    "collapsed": true
   },
   "outputs": [
    {
     "data": {
      "text/plain": [
       "{'name': 'conv2d_0_m',\n",
       " 'trainable': True,\n",
       " 'dtype': 'float32',\n",
       " 'filters': 8,\n",
       " 'kernel_size': (3, 3),\n",
       " 'strides': (1, 1),\n",
       " 'padding': 'same',\n",
       " 'data_format': 'channels_last',\n",
       " 'dilation_rate': (1, 1),\n",
       " 'activation': 'relu',\n",
       " 'use_bias': True,\n",
       " 'kernel_initializer': {'class_name': 'QInitializer',\n",
       "  'config': {'initializer': {'class_name': 'QInitializer',\n",
       "    'config': {'initializer': {'class_name': 'VarianceScaling',\n",
       "      'config': {'scale': 2.0,\n",
       "       'mode': 'fan_in',\n",
       "       'distribution': 'truncated_normal',\n",
       "       'seed': None},\n",
       "      '__passive_serialization__': True},\n",
       "     'use_scale': True,\n",
       "     'quantizer': {'class_name': 'quantized_bits',\n",
       "      'config': {'bits': 5,\n",
       "       'integer': 1,\n",
       "       'symmetric': 0,\n",
       "       'alpha': 1,\n",
       "       'keep_negative': True,\n",
       "       'use_stochastic_rounding': False},\n",
       "      '__passive_serialization__': True}},\n",
       "    '__passive_serialization__': True},\n",
       "   'use_scale': True,\n",
       "   'quantizer': {'class_name': 'quantized_bits',\n",
       "    'config': {'bits': 5,\n",
       "     'integer': 1,\n",
       "     'symmetric': 0,\n",
       "     'alpha': 1,\n",
       "     'keep_negative': True,\n",
       "     'use_stochastic_rounding': False},\n",
       "    '__passive_serialization__': True}}},\n",
       " 'bias_initializer': {'class_name': 'Zeros', 'config': {}},\n",
       " 'kernel_regularizer': None,\n",
       " 'bias_regularizer': None,\n",
       " 'activity_regularizer': None,\n",
       " 'kernel_constraint': {'class_name': 'Clip',\n",
       "  'config': {'min_value': -2.0, 'max_value': 2.0}},\n",
       " 'bias_constraint': {'class_name': 'Clip',\n",
       "  'config': {'min_value': -2.0, 'max_value': 2.0}},\n",
       " 'kernel_quantizer': {'class_name': 'quantized_bits',\n",
       "  'config': {'bits': 5,\n",
       "   'integer': 1,\n",
       "   'symmetric': 0,\n",
       "   'alpha': 1,\n",
       "   'keep_negative': True,\n",
       "   'use_stochastic_rounding': False}},\n",
       " 'bias_quantizer': {'class_name': 'quantized_bits',\n",
       "  'config': {'bits': 5,\n",
       "   'integer': 1,\n",
       "   'symmetric': 0,\n",
       "   'alpha': 1,\n",
       "   'keep_negative': True,\n",
       "   'use_stochastic_rounding': False}},\n",
       " 'kernel_range': None,\n",
       " 'bias_range': None}"
      ]
     },
     "execution_count": 64,
     "metadata": {},
     "output_type": "execute_result"
    }
   ],
   "source": [
    "encoder.layers[2].get_config()"
   ]
  },
  {
   "cell_type": "code",
   "execution_count": 258,
   "metadata": {},
   "outputs": [],
   "source": [
    "# find the output of layer i, from input x\n",
    "import matplotlib.pyplot as plt\n",
    "import mplhep as hep\n",
    "\n",
    "\n",
    "def layerOutput(model,layer_index,x):\n",
    "    m = tf.keras.models.Model(\n",
    "        inputs =model.inputs,\n",
    "        outputs=model.layers[layer_index].output\n",
    "    )\n",
    "    return m.predict(x)\n",
    "\n",
    "def plotWeights(model):\n",
    "    plt.figure(figsize=(8,6))\n",
    "    for ilayer in range(1,len(encoder.layers)):\n",
    "        if len(model.layers[ilayer].get_weights())>0:\n",
    "            label = model.layers[ilayer].name\n",
    "            data = np.histogram(model.layers[ilayer].get_weights()[0])\n",
    "            print(ilayer, label,'unique weights',len(np.unique(model.layers[ilayer].get_weights()[0])))\n",
    "            hep.histplot(data[0],data[1],label=label)\n",
    "        else:\n",
    "            print(ilayer,'no weights')\n",
    "    plt.xlabel('weights')\n",
    "    plt.ylabel('Entries')\n",
    "    plt.yscale('log')            \n",
    "    plt.legend()\n",
    "    \n",
    "#plot outputs from each layers given an input\n",
    "def plotOutputs(model,x,layer_indices=[],nBins=10,Range=None):\n",
    "    plt.figure(figsize=(8,6))\n",
    "    if len(layer_indices)>0:\n",
    "        layers = layer_indices\n",
    "    else:\n",
    "        layers = range(1,len(encoder.layers))\n",
    "    for ilayer in layers:\n",
    "        label = model.layers[ilayer].name\n",
    "        output,bins = np.histogram(layerOutput(model,ilayer,x).flatten(),nBins,Range)\n",
    "        hep.histplot(output,bins,label=label)\n",
    "    plt.yscale('log')\n",
    "    plt.xlabel('Outputs')    \n",
    "    plt.tight_layout()\n",
    "    plt.legend()\n",
    "    str_layers = \"_\".join([str(l) for l in layer_indices])\n",
    "    plt.savefig(\"hist_outputs_%s.pdf\"%str_layers)"
   ]
  },
  {
   "cell_type": "code",
   "execution_count": 139,
   "metadata": {},
   "outputs": [
    {
     "name": "stdout",
     "output_type": "stream",
     "text": [
      "1 no weights\n",
      "2 conv2d_0_m unique weights 54\n",
      "3 no weights\n",
      "4 no weights\n",
      "5 encoded_vector unique weights 1539\n",
      "6 no weights\n"
     ]
    },
    {
     "name": "stderr",
     "output_type": "stream",
     "text": [
      "WARNING:matplotlib.font_manager:findfont: Font family ['cursive'] not found. Falling back to DejaVu Sans.\n"
     ]
    },
    {
     "data": {
      "image/png": "[encoded data removed]",
      "text/plain": [
       "<Figure size 576x432 with 1 Axes>"
      ]
     },
     "metadata": {
      "needs_background": "light"
     },
     "output_type": "display_data"
    }
   ],
   "source": [
    "plotWeights(encoder)"
   ]
  },
  {
   "cell_type": "code",
   "execution_count": 270,
   "metadata": {},
   "outputs": [
    {
     "name": "stderr",
     "output_type": "stream",
     "text": [
      "WARNING:matplotlib.backends.backend_pdf:'texgyreheros-regular.otf' can not be subsetted into a Type 3 font. The entire font will be embedded in the output.\n"
     ]
    },
    {
     "data": {
      "image/png": "[encoded data removed]",
      "text/plain": [
       "<Figure size 576x432 with 1 Axes>"
      ]
     },
     "metadata": {
      "needs_background": "light"
     },
     "output_type": "display_data"
    }
   ],
   "source": [
    "#x = np.arange(0,48).reshape(1,4,4,3)\n",
    "N=10\n",
    "x = np.random.uniform(0,1,48*N).reshape(N,4,4,3)\n",
    "layers1 = [0,1,2,3]\n",
    "layers2 = [6]\n",
    "#plotOutputs(encoder_A,x,layers,nBins=20)\n",
    "#plotOutputs(encoder,vinput.reshape(50,4,4,3),[3],nBins=20)\n",
    "plotOutputs(encoder,vinput.reshape(50,4,4,3),[5],nBins=50)\n",
    "#plotOutputs(encoder,vinput.reshape(50,4,4,3),[5,6],nBins=50,Range=(0,5))\n",
    "#plotOutputs(encoder,vinput.reshape(50,4,4,3),[5],nBins=50,Range=(0,0.05))"
   ]
  },
  {
   "cell_type": "code",
   "execution_count": 256,
   "metadata": {},
   "outputs": [
    {
     "name": "stderr",
     "output_type": "stream",
     "text": [
      "WARNING:matplotlib.backends.backend_pdf:'texgyreheros-regular.otf' can not be subsetted into a Type 3 font. The entire font will be embedded in the output.\n"
     ]
    },
    {
     "data": {
      "image/png": "[encoded data removed]",
      "text/plain": [
       "<Figure size 576x432 with 1 Axes>"
      ]
     },
     "metadata": {
      "needs_background": "light"
     },
     "output_type": "display_data"
    }
   ],
   "source": [
    "\n",
    "#x = np.arange(0,48).reshape(1,4,4,3)\n",
    "layers = [0,1,2,3]\n",
    "plotOutputs(encoder_Keras_sigmoid,vinput.reshape(50,4,4,3),layers,nBins=20)"
   ]
  },
  {
   "cell_type": "code",
   "execution_count": 238,
   "metadata": {},
   "outputs": [
    {
     "data": {
      "text/plain": [
       "'0_1_2_3'"
      ]
     },
     "execution_count": 238,
     "metadata": {},
     "output_type": "execute_result"
    }
   ],
   "source": [
    "'_'.join([str(l) for l in layers])"
   ]
  },
  {
   "cell_type": "code",
   "execution_count": 251,
   "metadata": {},
   "outputs": [
    {
     "data": {
      "text/plain": [
       "array([0. , 0.5, 1. , 1.5], dtype=float32)"
      ]
     },
     "execution_count": 251,
     "metadata": {},
     "output_type": "execute_result"
    }
   ],
   "source": [
    "np.unique(layerOutput(encoder,6,vinput.reshape(50,4,4,3)))"
   ]
  },
  {
   "cell_type": "code",
   "execution_count": 72,
   "metadata": {},
   "outputs": [
    {
     "data": {
      "text/plain": [
       "98"
      ]
     },
     "execution_count": 72,
     "metadata": {},
     "output_type": "execute_result"
    }
   ],
   "source": [
    "len(np.unique(layerOutput(encoder,2,x)))"
   ]
  },
  {
   "cell_type": "code",
   "execution_count": 52,
   "metadata": {},
   "outputs": [
    {
     "data": {
      "text/plain": [
       "array([[0. , 0. , 1.5, 1.5, 1.5, 1.5, 1.5, 0. , 1.5, 0. , 1.5, 1.5, 1.5,\n",
       "        1.5, 0. , 1.5]], dtype=float32)"
      ]
     },
     "execution_count": 52,
     "metadata": {},
     "output_type": "execute_result"
    }
   ],
   "source": [
    "layerOutput(encoder,6,x)"
   ]
  },
  {
   "cell_type": "code",
   "execution_count": 123,
   "metadata": {},
   "outputs": [],
   "source": [
    "data = [np.histogram(iws.flatten()) for iws in model.get_weights()]"
   ]
  },
  {
   "cell_type": "code",
   "execution_count": 128,
   "metadata": {},
   "outputs": [
    {
     "data": {
      "text/plain": [
       "(array([1, 0, 0, 0, 0, 1, 0, 1, 0, 5]),\n",
       " array([0.68735254, 0.8186173 , 0.94988203, 1.0811467 , 1.2124115 ,\n",
       "        1.3436763 , 1.474941  , 1.6062057 , 1.7374705 , 1.8687353 ,\n",
       "        2.        ], dtype=float32))"
      ]
     },
     "execution_count": 128,
     "metadata": {},
     "output_type": "execute_result"
    }
   ],
   "source": [
    "data[1]"
   ]
  },
  {
   "cell_type": "code",
   "execution_count": null,
   "metadata": {},
   "outputs": [],
   "source": []
  }
 ],
 "metadata": {
  "kernelspec": {
   "display_name": "Python 3",
   "language": "python",
   "name": "python3"
  },
  "language_info": {
   "codemirror_mode": {
    "name": "ipython",
    "version": 3
   },
   "file_extension": ".py",
   "mimetype": "text/x-python",
   "name": "python",
   "nbconvert_exporter": "python",
   "pygments_lexer": "ipython3",
   "version": "3.8.2"
  }
 },
 "nbformat": 4,
 "nbformat_minor": 2
}
