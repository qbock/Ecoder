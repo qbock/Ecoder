{
 "cells": [
  {
   "cell_type": "code",
   "execution_count": 1,
   "metadata": {},
   "outputs": [],
   "source": [
    "import numpy as np\n",
    "import pandas as pd\n",
    "import math\n",
    "\n",
    "import sys\n",
    "sys.path.insert(0, \"../\")\n",
    "\n",
    "from dense2DkernelCNN import dense2DkernelCNN "
   ]
  },
  {
   "cell_type": "code",
   "execution_count": 109,
   "metadata": {},
   "outputs": [],
   "source": [
    "from tensorflow.keras.layers import Input, Dense, Conv2D, MaxPooling2D, UpSampling2D, Flatten, Conv2DTranspose, Reshape, Activation, DepthwiseConv2D,concatenate\n",
    "from tensorflow.keras.models import Model\n",
    "from tensorflow.keras import backend as K\n",
    "from tensorflow.keras.utils import plot_model\n",
    "import numpy as np\n",
    "import json\n",
    "from telescope import telescopeMSE2\n",
    "\n",
    "class denseSepConv2D:\n",
    "    def __init__(self,name='',weights_f=''):\n",
    "        self.name=name\n",
    "        self.pams ={\n",
    "            'CNN_layer_nodes'  : [8],  #n_filters\n",
    "            'CNN_kernel_size'  : [3],\n",
    "            'CNN_pool'         : [False],\n",
    "            'Dense_layer_nodes': [], #does not include encoded layer\n",
    "            'encoded_dim'      : 16,\n",
    "            'shape'            : (4,4,3),\n",
    "            'channels_first'   : False,\n",
    "            'arrange'          : [],\n",
    "            'arrMask'          : [],\n",
    "            'n_copy'           : 0,      # no. of copy for hi occ datasets\n",
    "            'loss'             : ''\n",
    "        }\n",
    "\n",
    "        self.weights_f =weights_f\n",
    "        \n",
    "\n",
    "    def setpams(self,in_pams):\n",
    "        for k,v in in_pams.items():\n",
    "            self.pams[k] = v\n",
    "\n",
    "    def shuffle(self,arr):\n",
    "        order = np.arange(48)\n",
    "        np.random.shuffle(order)\n",
    "        return arr[:,order]\n",
    "            \n",
    "    def prepInput(self,normData):\n",
    "        shape = self.pams['shape']\n",
    "\n",
    "        if len(self.pams['arrange'])>0:\n",
    "          arrange = self.pams['arrange']\n",
    "          inputdata = normData[:,arrange]\n",
    "        else:\n",
    "          inputdata = normData\n",
    "        if len(self.pams['arrMask'])>0:\n",
    "          arrMask = self.pams['arrMask']\n",
    "          inputdata[:,arrMask==0]=0  #zeros out repeated entries\n",
    "\n",
    "        shaped_data = inputdata.reshape(len(inputdata),shape[0],shape[1],shape[2])\n",
    "\n",
    "        if self.pams['n_copy']>0:\n",
    "            n_copy  = self.pams['n_copy']\n",
    "            occ_low = self.pams['occ_low']\n",
    "            occ_hi = self.pams['occ_hi']\n",
    "        shaped_data = self.cloneInput(shaped_data,n_copy,occ_low,occ_hi)\n",
    "\n",
    "        return shaped_data\n",
    "\n",
    "    def weightedMSE(self, y_true, y_pred):\n",
    "        y_true = K.cast(y_true, y_pred.dtype)\n",
    "        loss   = K.mean(K.square(y_true - y_pred)*K.maximum(y_pred,y_true),axis=(-1))\n",
    "        return loss\n",
    "            \n",
    "    def init(self,printSummary=True):\n",
    "        encoded_dim = self.pams['encoded_dim']\n",
    "\n",
    "        CNN_layer_nodes   = self.pams['CNN_layer_nodes']\n",
    "        CNN_kernel_size   = self.pams['CNN_kernel_size']\n",
    "        CNN_pool          = self.pams['CNN_pool']\n",
    "        Dense_layer_nodes = self.pams['Dense_layer_nodes'] #does not include encoded layer\n",
    "        channels_first    = self.pams['channels_first']\n",
    "\n",
    "        # fix to one cnn layer for now\n",
    "        nnodes=CNN_layer_nodes[0] #8\n",
    "        depth_multiplier = CNN_layer_nodes[0]\n",
    "        CNN_kernel=CNN_kernel_size[0] #3\n",
    "\n",
    "        inputs = Input(shape=self.pams['shape'])\n",
    "        x = inputs\n",
    "\n",
    "        x = DepthwiseConv2D(CNN_kernel, padding='same', activation='relu',depth_multiplier=depth_multiplier)(x)\n",
    "\n",
    "        shape = K.int_shape(x)\n",
    "        #print(\"KINT SHAPE\",shape)\n",
    "        \n",
    "        x = Flatten()(x)\n",
    "        \n",
    "        encodedLayer = Dense(encoded_dim, activation='relu',name='encoded_vector')(x)\n",
    "\n",
    "        # Instantiate Encoder Model\n",
    "        self.encoder = Model(inputs, encodedLayer, name='encoder')\n",
    "        if printSummary:\n",
    "          self.encoder.summary()\n",
    "          plot_model(self.encoder, show_shapes=True, to_file=\"model1.png\")\n",
    "\n",
    "        encoded_inputs = Input(shape=(encoded_dim,), name='decoder_input')\n",
    "        x = encoded_inputs\n",
    "\n",
    "        x = Dense(shape[1]*shape[2]*shape[3], activation='relu')(x)\n",
    "\n",
    "        x = Reshape((shape[1], shape[2], shape[3]))(x)\n",
    "        \n",
    "        x = Conv2DTranspose(self.pams['shape'][2], CNN_kernel_size[0], activation='relu', padding='same')(x)\n",
    "\n",
    "        outputs = Activation('sigmoid', name='decoder_output')(x)\n",
    "\n",
    "        self.decoder = Model(encoded_inputs, outputs, name='decoder')\n",
    "        if printSummary:\n",
    "          self.decoder.summary()\n",
    "          plot_model(self.decoder, show_shapes=True, to_file=\"model2.png\")\n",
    "\n",
    "        self.autoencoder = Model(inputs, self.decoder(self.encoder(inputs)), name='autoencoder')\n",
    "        if printSummary:\n",
    "          self.autoencoder.summary()\n",
    "          plot_model(self.autoencoder, show_shapes=True, to_file=\"model.png\")\n",
    "\n",
    "        if self.pams['loss']==\"weightedMSE\":\n",
    "            self.autoencoder.compile(loss=self.weightedMSE, optimizer='adam')\n",
    "            self.encoder.compile(loss=self.weightedMSE, optimizer='adam')\n",
    "        elif self.pams['loss'] == 'telescopeMSE':\n",
    "           self.autoencoder.compile(loss=telescopeMSE2, optimizer='adam', run_eagerly=True)\n",
    "           self.encoder.compile(loss=telescopeMSE2, optimizer='adam', run_eagerly=True)\n",
    "        elif self.pams['loss']!='':\n",
    "            self.autoencoder.compile(loss=self.pams['loss'], optimizer='adam')\n",
    "            self.encoder.compile(loss=self.pams['loss'], optimizer='adam')\n",
    "        else:\n",
    "            self.autoencoder.compile(loss='mse', optimizer='adam')\n",
    "            self.encoder.compile(loss='mse', optimizer='adam')\n",
    "\n",
    "        CNN_layers=''\n",
    "        if len(CNN_layer_nodes)>0:\n",
    "            CNN_layers += '_Conv'\n",
    "            for i,n in enumerate(CNN_layer_nodes):\n",
    "                CNN_layers += f'_{n}x{CNN_kernel_size[i]}'\n",
    "                if CNN_pool[i]:\n",
    "                    CNN_layers += 'pooled'\n",
    "        Dense_layers = ''\n",
    "        if len(Dense_layer_nodes)>0:\n",
    "            Dense_layers += '_Dense'\n",
    "            for n in Dense_layer_nodes:\n",
    "                Dense_layers += f'_{n}'\n",
    "\n",
    "        self.name = f'Autoencoded{CNN_layers}{Dense_layers}_Encoded_{encoded_dim}'\n",
    "        \n",
    "        if not self.weights_f=='':\n",
    "            self.autoencoder.load_weights(self.weights_f)\n",
    "    def get_models(self):\n",
    "       return self.autoencoder,self.encoder\n",
    "           \n",
    "    def predict(self,x):\n",
    "        decoded_Q = self.autoencoder.predict(x)\n",
    "        encoded_Q = self.encoder.predict(x)\n",
    "        s = self.pams['shape'] \n",
    "        if self.pams['channels_first']:\n",
    "            shaped_x  = np.reshape(x,(len(x),s[0]*s[1],s[2]))\n",
    "            decoded_Q = np.reshape(decoded_Q,(len(decoded_Q),s[0]*s[1],s[2]))\n",
    "            encoded_Q = np.reshape(encoded_Q,(len(encoded_Q),self.pams['encoded_dim'],1))\n",
    "        else:\n",
    "            shaped_x  = np.reshape(x,(len(x),s[2]*s[1],s[0]))\n",
    "            decoded_Q = np.reshape(decoded_Q,(len(decoded_Q),s[2]*s[1],s[0]))\n",
    "            encoded_Q = np.reshape(encoded_Q,(len(encoded_Q),self.pams['encoded_dim'],1))\n",
    "        return shaped_x,decoded_Q, encoded_Q\n",
    "\n",
    "    def summary(self):\n",
    "      self.encoder.summary()\n",
    "      self.decoder.summary()\n",
    "      self.autoencoder.summary()\n",
    "\n",
    "    ##get pams for writing json\n",
    "    def get_pams(self):\n",
    "      jsonpams={}\n",
    "      for k,v in self.pams.items():\n",
    "          if type(v)==type(np.array([])):\n",
    "              jsonpams[k] = v.tolist()\n",
    "          else:\n",
    "              jsonpams[k] = v \n",
    "      return jsonpams "
   ]
  },
  {
   "cell_type": "code",
   "execution_count": 110,
   "metadata": {},
   "outputs": [],
   "source": [
    "m = denseSepConv2D()\n",
    "m.init(False)"
   ]
  },
  {
   "cell_type": "code",
   "execution_count": 111,
   "metadata": {},
   "outputs": [],
   "source": [
    "m_autoCNN, m_autoCNNen = m.get_models()"
   ]
  },
  {
   "cell_type": "code",
   "execution_count": 112,
   "metadata": {},
   "outputs": [
    {
     "data": {
      "text/plain": [
       "<tf.Tensor 'decoder_input_15:0' shape=(None, 16) dtype=float32>"
      ]
     },
     "execution_count": 112,
     "metadata": {},
     "output_type": "execute_result"
    }
   ],
   "source": [
    "m_autoCNN.layers[2].input"
   ]
  },
  {
   "cell_type": "code",
   "execution_count": 113,
   "metadata": {},
   "outputs": [],
   "source": [
    "m_decoder = Model(inputs = m_autoCNN.layers[2].input,\n",
    "                 outputs = m_autoCNN.layers[2].output)"
   ]
  },
  {
   "cell_type": "code",
   "execution_count": 114,
   "metadata": {},
   "outputs": [
    {
     "name": "stdout",
     "output_type": "stream",
     "text": [
      "Model: \"encoder\"\n",
      "_________________________________________________________________\n",
      "Layer (type)                 Output Shape              Param #   \n",
      "=================================================================\n",
      "input_18 (InputLayer)        [(None, 4, 4, 3)]         0         \n",
      "_________________________________________________________________\n",
      "depthwise_conv2d_6 (Depthwis (None, 4, 4, 24)          240       \n",
      "_________________________________________________________________\n",
      "flatten_17 (Flatten)         (None, 384)               0         \n",
      "_________________________________________________________________\n",
      "encoded_vector (Dense)       (None, 16)                6160      \n",
      "=================================================================\n",
      "Total params: 6,400\n",
      "Trainable params: 6,400\n",
      "Non-trainable params: 0\n",
      "_________________________________________________________________\n"
     ]
    }
   ],
   "source": [
    "m_autoCNNen.summary()"
   ]
  },
  {
   "cell_type": "code",
   "execution_count": 115,
   "metadata": {},
   "outputs": [
    {
     "name": "stdout",
     "output_type": "stream",
     "text": [
      "Model: \"model_22\"\n",
      "_________________________________________________________________\n",
      "Layer (type)                 Output Shape              Param #   \n",
      "=================================================================\n",
      "decoder_input (InputLayer)   [(None, 16)]              0         \n",
      "_________________________________________________________________\n",
      "dense_15 (Dense)             (None, 384)               6528      \n",
      "_________________________________________________________________\n",
      "reshape_21 (Reshape)         (None, 4, 4, 24)          0         \n",
      "_________________________________________________________________\n",
      "conv2d_transpose_35 (Conv2DT (None, 4, 4, 3)           651       \n",
      "_________________________________________________________________\n",
      "decoder_output (Activation)  (None, 4, 4, 3)           0         \n",
      "=================================================================\n",
      "Total params: 7,179\n",
      "Trainable params: 7,179\n",
      "Non-trainable params: 0\n",
      "_________________________________________________________________\n"
     ]
    }
   ],
   "source": [
    "m_decoder.summary()"
   ]
  },
  {
   "cell_type": "code",
   "execution_count": 107,
   "metadata": {},
   "outputs": [
    {
     "name": "stdout",
     "output_type": "stream",
     "text": [
      "Model: \"encoder\"\n",
      "_________________________________________________________________\n",
      "Layer (type)                 Output Shape              Param #   \n",
      "=================================================================\n",
      "input_17 (InputLayer)        [(None, 4, 4, 3)]         0         \n",
      "_________________________________________________________________\n",
      "depthwise_conv2d_5 (Depthwis (None, 4, 4, 24)          240       \n",
      "_________________________________________________________________\n",
      "flatten_16 (Flatten)         (None, 384)               0         \n",
      "_________________________________________________________________\n",
      "encoded_vector (Dense)       (None, 16)                6160      \n",
      "=================================================================\n",
      "Total params: 6,400\n",
      "Trainable params: 6,400\n",
      "Non-trainable params: 0\n",
      "_________________________________________________________________\n"
     ]
    }
   ],
   "source": [
    "m_autoCNNen.summary()"
   ]
  },
  {
   "cell_type": "code",
   "execution_count": 10,
   "metadata": {},
   "outputs": [],
   "source": [
    "edim = 16\n",
    "arrange443 = np.array([0,16, 32,\n",
    "                       1,17, 33,\n",
    "                       2,18, 34,\n",
    "                       3,19, 35,\n",
    "                       4,20, 36,\n",
    "                       5,21, 37,\n",
    "                       6,22, 38,\n",
    "                       7,23, 39,\n",
    "                       8,24, 40,\n",
    "                       9,25, 41,\n",
    "                       10,26, 42,\n",
    "                       11,27, 43,\n",
    "                       12,28, 44,\n",
    "                       13,29, 45,\n",
    "                       14,30, 46,\n",
    "                       15,31, 47])\n",
    "nBits_encod_total = 7\n",
    "model_config =  {\n",
    "        'name': \"Aug14_qKeras_optA\", 'ws': '', # custom\n",
    "        'pams': {'shape': (4, 4, 3),                                                                                                  \n",
    "                 'channels_first': False,                                                                                             \n",
    "                 'arrange': arrange443,\n",
    "                 'encoded_dim': edim,                                                                                                 \n",
    "                 'loss': 'weightedMSE',                                                                                              \n",
    "                 'nBits_encod'  : {'total':  nBits_encod_total, 'integer': 1,'keep_negative':0},                                      \n",
    "                 'nBits_input'  : {'total': 10,                 'integer': 3,'keep_negative':1},                                      \n",
    "                 'nBits_accum'  : {'total': 11,                 'integer': 3,'keep_negative':1},                                      \n",
    "                 'nBits_weight' : {'total':  5,                 'integer': 1,'keep_negative':1},                                      \n",
    "             },\n",
    "         'isQK':False,\n",
    "        }\n",
    "m = dense2DkernelCNN()\n",
    "m.setpams(model_config['pams'])\n",
    "m.init(False)\n",
    "m_autoCNN, m_autoCNNen = m.get_models()"
   ]
  },
  {
   "cell_type": "code",
   "execution_count": 117,
   "metadata": {},
   "outputs": [],
   "source": [
    "f_raw = '../SampleSplitting_SignalAllocation/nElinks_5/ttbar_v11_eolNoise_Layer9_5Links.csv'\n",
    "calQ     = np.genfromtxt(f_raw, delimiter=',',usecols=[*range(0, 48)],skip_header=2000,max_rows=10000)\n",
    "sumQ     = calQ.sum(axis=1)\n",
    "calQ     = calQ[sumQ>0]\n",
    "sumQ     = sumQ[sumQ>0]\n",
    "\n",
    "inputQf_48_arr   = np.array([calQ[i]/s for i,s in enumerate(sumQ)])[:,arrange443]  \n",
    "inputQf_443_arr  = inputQf_48_arr.reshape(len(inputQf_48_arr),4,4,3)\n",
    "inputQ_48_arr    = np.array([inputQf_48_arr[i]*s for i,s in enumerate(sumQ)])              \n",
    "inputQ_443_arr   =  inputQ_48_arr.reshape(len(inputQ_48_arr),4,4,3) "
   ]
  },
  {
   "cell_type": "code",
   "execution_count": 118,
   "metadata": {},
   "outputs": [
    {
     "name": "stdout",
     "output_type": "stream",
     "text": [
      "Train on 8932 samples\n",
      "Epoch 1/10\n",
      "8932/8932 [==============================] - 1s 138us/sample - loss: 0.2406\n",
      "Epoch 2/10\n",
      "8932/8932 [==============================] - 1s 131us/sample - loss: 0.2406\n",
      "Epoch 3/10\n",
      "8932/8932 [==============================] - 1s 137us/sample - loss: 0.2406\n",
      "Epoch 4/10\n",
      "8932/8932 [==============================] - 1s 136us/sample - loss: 0.2406\n",
      "Epoch 5/10\n",
      "5248/8932 [================>.............] - ETA: 0s - loss: 0.2406"
     ]
    },
    {
     "ename": "KeyboardInterrupt",
     "evalue": "",
     "output_type": "error",
     "traceback": [
      "\u001b[0;31m---------------------------------------------------------------------------\u001b[0m",
      "\u001b[0;31mKeyboardInterrupt\u001b[0m                         Traceback (most recent call last)",
      "\u001b[0;32m<ipython-input-118-35adc1bea90a>\u001b[0m in \u001b[0;36m<module>\u001b[0;34m\u001b[0m\n\u001b[0;32m----> 1\u001b[0;31m m_autoCNN.fit(inputQf_443_arr,inputQf_443_arr,\n\u001b[0m\u001b[1;32m      2\u001b[0m              epochs = 10)\n",
      "\u001b[0;32m/cvmfs/cms.cern.ch/slc7_amd64_gcc820/external/py3-tensorflow/2.1.0-bcolbf2/lib/python3.8/site-packages/tensorflow_core/python/keras/engine/training.py\u001b[0m in \u001b[0;36mfit\u001b[0;34m(self, x, y, batch_size, epochs, verbose, callbacks, validation_split, validation_data, shuffle, class_weight, sample_weight, initial_epoch, steps_per_epoch, validation_steps, validation_freq, max_queue_size, workers, use_multiprocessing, **kwargs)\u001b[0m\n\u001b[1;32m    798\u001b[0m \u001b[0;34m\u001b[0m\u001b[0m\n\u001b[1;32m    799\u001b[0m     \u001b[0mfunc\u001b[0m \u001b[0;34m=\u001b[0m \u001b[0mself\u001b[0m\u001b[0;34m.\u001b[0m\u001b[0m_select_training_loop\u001b[0m\u001b[0;34m(\u001b[0m\u001b[0mx\u001b[0m\u001b[0;34m)\u001b[0m\u001b[0;34m\u001b[0m\u001b[0;34m\u001b[0m\u001b[0m\n\u001b[0;32m--> 800\u001b[0;31m     return func.fit(\n\u001b[0m\u001b[1;32m    801\u001b[0m         \u001b[0mself\u001b[0m\u001b[0;34m,\u001b[0m\u001b[0;34m\u001b[0m\u001b[0;34m\u001b[0m\u001b[0m\n\u001b[1;32m    802\u001b[0m         \u001b[0mx\u001b[0m\u001b[0;34m=\u001b[0m\u001b[0mx\u001b[0m\u001b[0;34m,\u001b[0m\u001b[0;34m\u001b[0m\u001b[0;34m\u001b[0m\u001b[0m\n",
      "\u001b[0;32m/cvmfs/cms.cern.ch/slc7_amd64_gcc820/external/py3-tensorflow/2.1.0-bcolbf2/lib/python3.8/site-packages/tensorflow_core/python/keras/engine/training_v2.py\u001b[0m in \u001b[0;36mfit\u001b[0;34m(self, model, x, y, batch_size, epochs, verbose, callbacks, validation_split, validation_data, shuffle, class_weight, sample_weight, initial_epoch, steps_per_epoch, validation_steps, validation_freq, max_queue_size, workers, use_multiprocessing, **kwargs)\u001b[0m\n\u001b[1;32m    329\u001b[0m                 \u001b[0mtraining_data_iter\u001b[0m \u001b[0;34m=\u001b[0m \u001b[0miter\u001b[0m\u001b[0;34m(\u001b[0m\u001b[0mtraining_dataset\u001b[0m\u001b[0;34m)\u001b[0m\u001b[0;34m\u001b[0m\u001b[0;34m\u001b[0m\u001b[0m\n\u001b[1;32m    330\u001b[0m \u001b[0;34m\u001b[0m\u001b[0m\n\u001b[0;32m--> 331\u001b[0;31m             training_result = run_one_epoch(\n\u001b[0m\u001b[1;32m    332\u001b[0m                 \u001b[0mmodel\u001b[0m\u001b[0;34m,\u001b[0m\u001b[0;34m\u001b[0m\u001b[0;34m\u001b[0m\u001b[0m\n\u001b[1;32m    333\u001b[0m                 \u001b[0mtraining_data_iter\u001b[0m\u001b[0;34m,\u001b[0m\u001b[0;34m\u001b[0m\u001b[0;34m\u001b[0m\u001b[0m\n",
      "\u001b[0;32m/cvmfs/cms.cern.ch/slc7_amd64_gcc820/external/py3-tensorflow/2.1.0-bcolbf2/lib/python3.8/site-packages/tensorflow_core/python/keras/engine/training_v2.py\u001b[0m in \u001b[0;36mrun_one_epoch\u001b[0;34m(model, iterator, execution_function, dataset_size, batch_size, strategy, steps_per_epoch, num_samples, mode, training_context, total_epochs)\u001b[0m\n\u001b[1;32m    126\u001b[0m         step=step, mode=mode, size=current_batch_size) as batch_logs:\n\u001b[1;32m    127\u001b[0m       \u001b[0;32mtry\u001b[0m\u001b[0;34m:\u001b[0m\u001b[0;34m\u001b[0m\u001b[0;34m\u001b[0m\u001b[0m\n\u001b[0;32m--> 128\u001b[0;31m         \u001b[0mbatch_outs\u001b[0m \u001b[0;34m=\u001b[0m \u001b[0mexecution_function\u001b[0m\u001b[0;34m(\u001b[0m\u001b[0miterator\u001b[0m\u001b[0;34m)\u001b[0m\u001b[0;34m\u001b[0m\u001b[0;34m\u001b[0m\u001b[0m\n\u001b[0m\u001b[1;32m    129\u001b[0m       \u001b[0;32mexcept\u001b[0m \u001b[0;34m(\u001b[0m\u001b[0mStopIteration\u001b[0m\u001b[0;34m,\u001b[0m \u001b[0merrors\u001b[0m\u001b[0;34m.\u001b[0m\u001b[0mOutOfRangeError\u001b[0m\u001b[0;34m)\u001b[0m\u001b[0;34m:\u001b[0m\u001b[0;34m\u001b[0m\u001b[0;34m\u001b[0m\u001b[0m\n\u001b[1;32m    130\u001b[0m         \u001b[0;31m# TODO(kaftan): File bug about tf function and errors.OutOfRangeError?\u001b[0m\u001b[0;34m\u001b[0m\u001b[0;34m\u001b[0m\u001b[0;34m\u001b[0m\u001b[0m\n",
      "\u001b[0;32m/cvmfs/cms.cern.ch/slc7_amd64_gcc820/external/py3-tensorflow/2.1.0-bcolbf2/lib/python3.8/site-packages/tensorflow_core/python/keras/engine/training_v2_utils.py\u001b[0m in \u001b[0;36mexecution_function\u001b[0;34m(input_fn)\u001b[0m\n\u001b[1;32m     96\u001b[0m     \u001b[0;31m# `numpy` translates Tensors to values in Eager mode.\u001b[0m\u001b[0;34m\u001b[0m\u001b[0;34m\u001b[0m\u001b[0;34m\u001b[0m\u001b[0m\n\u001b[1;32m     97\u001b[0m     return nest.map_structure(_non_none_constant_value,\n\u001b[0;32m---> 98\u001b[0;31m                               distributed_function(input_fn))\n\u001b[0m\u001b[1;32m     99\u001b[0m \u001b[0;34m\u001b[0m\u001b[0m\n\u001b[1;32m    100\u001b[0m   \u001b[0;32mreturn\u001b[0m \u001b[0mexecution_function\u001b[0m\u001b[0;34m\u001b[0m\u001b[0;34m\u001b[0m\u001b[0m\n",
      "\u001b[0;32m/cvmfs/cms.cern.ch/slc7_amd64_gcc820/external/py3-tensorflow/2.1.0-bcolbf2/lib/python3.8/site-packages/tensorflow_core/python/eager/def_function.py\u001b[0m in \u001b[0;36m__call__\u001b[0;34m(self, *args, **kwds)\u001b[0m\n\u001b[1;32m    566\u001b[0m         \u001b[0mxla_context\u001b[0m\u001b[0;34m.\u001b[0m\u001b[0mExit\u001b[0m\u001b[0;34m(\u001b[0m\u001b[0;34m)\u001b[0m\u001b[0;34m\u001b[0m\u001b[0;34m\u001b[0m\u001b[0m\n\u001b[1;32m    567\u001b[0m     \u001b[0;32melse\u001b[0m\u001b[0;34m:\u001b[0m\u001b[0;34m\u001b[0m\u001b[0;34m\u001b[0m\u001b[0m\n\u001b[0;32m--> 568\u001b[0;31m       \u001b[0mresult\u001b[0m \u001b[0;34m=\u001b[0m \u001b[0mself\u001b[0m\u001b[0;34m.\u001b[0m\u001b[0m_call\u001b[0m\u001b[0;34m(\u001b[0m\u001b[0;34m*\u001b[0m\u001b[0margs\u001b[0m\u001b[0;34m,\u001b[0m \u001b[0;34m**\u001b[0m\u001b[0mkwds\u001b[0m\u001b[0;34m)\u001b[0m\u001b[0;34m\u001b[0m\u001b[0;34m\u001b[0m\u001b[0m\n\u001b[0m\u001b[1;32m    569\u001b[0m \u001b[0;34m\u001b[0m\u001b[0m\n\u001b[1;32m    570\u001b[0m     \u001b[0;32mif\u001b[0m \u001b[0mtracing_count\u001b[0m \u001b[0;34m==\u001b[0m \u001b[0mself\u001b[0m\u001b[0;34m.\u001b[0m\u001b[0m_get_tracing_count\u001b[0m\u001b[0;34m(\u001b[0m\u001b[0;34m)\u001b[0m\u001b[0;34m:\u001b[0m\u001b[0;34m\u001b[0m\u001b[0;34m\u001b[0m\u001b[0m\n",
      "\u001b[0;32m/cvmfs/cms.cern.ch/slc7_amd64_gcc820/external/py3-tensorflow/2.1.0-bcolbf2/lib/python3.8/site-packages/tensorflow_core/python/eager/def_function.py\u001b[0m in \u001b[0;36m_call\u001b[0;34m(self, *args, **kwds)\u001b[0m\n\u001b[1;32m    597\u001b[0m       \u001b[0;31m# In this case we have created variables on the first call, so we run the\u001b[0m\u001b[0;34m\u001b[0m\u001b[0;34m\u001b[0m\u001b[0;34m\u001b[0m\u001b[0m\n\u001b[1;32m    598\u001b[0m       \u001b[0;31m# defunned version which is guaranteed to never create variables.\u001b[0m\u001b[0;34m\u001b[0m\u001b[0;34m\u001b[0m\u001b[0;34m\u001b[0m\u001b[0m\n\u001b[0;32m--> 599\u001b[0;31m       \u001b[0;32mreturn\u001b[0m \u001b[0mself\u001b[0m\u001b[0;34m.\u001b[0m\u001b[0m_stateless_fn\u001b[0m\u001b[0;34m(\u001b[0m\u001b[0;34m*\u001b[0m\u001b[0margs\u001b[0m\u001b[0;34m,\u001b[0m \u001b[0;34m**\u001b[0m\u001b[0mkwds\u001b[0m\u001b[0;34m)\u001b[0m  \u001b[0;31m# pylint: disable=not-callable\u001b[0m\u001b[0;34m\u001b[0m\u001b[0;34m\u001b[0m\u001b[0m\n\u001b[0m\u001b[1;32m    600\u001b[0m     \u001b[0;32melif\u001b[0m \u001b[0mself\u001b[0m\u001b[0;34m.\u001b[0m\u001b[0m_stateful_fn\u001b[0m \u001b[0;32mis\u001b[0m \u001b[0;32mnot\u001b[0m \u001b[0;32mNone\u001b[0m\u001b[0;34m:\u001b[0m\u001b[0;34m\u001b[0m\u001b[0;34m\u001b[0m\u001b[0m\n\u001b[1;32m    601\u001b[0m       \u001b[0;31m# Release the lock early so that multiple threads can perform the call\u001b[0m\u001b[0;34m\u001b[0m\u001b[0;34m\u001b[0m\u001b[0;34m\u001b[0m\u001b[0m\n",
      "\u001b[0;32m/cvmfs/cms.cern.ch/slc7_amd64_gcc820/external/py3-tensorflow/2.1.0-bcolbf2/lib/python3.8/site-packages/tensorflow_core/python/eager/function.py\u001b[0m in \u001b[0;36m__call__\u001b[0;34m(self, *args, **kwargs)\u001b[0m\n\u001b[1;32m   2361\u001b[0m     \u001b[0;32mwith\u001b[0m \u001b[0mself\u001b[0m\u001b[0;34m.\u001b[0m\u001b[0m_lock\u001b[0m\u001b[0;34m:\u001b[0m\u001b[0;34m\u001b[0m\u001b[0;34m\u001b[0m\u001b[0m\n\u001b[1;32m   2362\u001b[0m       \u001b[0mgraph_function\u001b[0m\u001b[0;34m,\u001b[0m \u001b[0margs\u001b[0m\u001b[0;34m,\u001b[0m \u001b[0mkwargs\u001b[0m \u001b[0;34m=\u001b[0m \u001b[0mself\u001b[0m\u001b[0;34m.\u001b[0m\u001b[0m_maybe_define_function\u001b[0m\u001b[0;34m(\u001b[0m\u001b[0margs\u001b[0m\u001b[0;34m,\u001b[0m \u001b[0mkwargs\u001b[0m\u001b[0;34m)\u001b[0m\u001b[0;34m\u001b[0m\u001b[0;34m\u001b[0m\u001b[0m\n\u001b[0;32m-> 2363\u001b[0;31m     \u001b[0;32mreturn\u001b[0m \u001b[0mgraph_function\u001b[0m\u001b[0;34m.\u001b[0m\u001b[0m_filtered_call\u001b[0m\u001b[0;34m(\u001b[0m\u001b[0margs\u001b[0m\u001b[0;34m,\u001b[0m \u001b[0mkwargs\u001b[0m\u001b[0;34m)\u001b[0m  \u001b[0;31m# pylint: disable=protected-access\u001b[0m\u001b[0;34m\u001b[0m\u001b[0;34m\u001b[0m\u001b[0m\n\u001b[0m\u001b[1;32m   2364\u001b[0m \u001b[0;34m\u001b[0m\u001b[0m\n\u001b[1;32m   2365\u001b[0m   \u001b[0;34m@\u001b[0m\u001b[0mproperty\u001b[0m\u001b[0;34m\u001b[0m\u001b[0;34m\u001b[0m\u001b[0m\n",
      "\u001b[0;32m/cvmfs/cms.cern.ch/slc7_amd64_gcc820/external/py3-tensorflow/2.1.0-bcolbf2/lib/python3.8/site-packages/tensorflow_core/python/eager/function.py\u001b[0m in \u001b[0;36m_filtered_call\u001b[0;34m(self, args, kwargs)\u001b[0m\n\u001b[1;32m   1605\u001b[0m       \u001b[0;31m`\u001b[0m\u001b[0margs\u001b[0m\u001b[0;31m`\u001b[0m \u001b[0;32mand\u001b[0m\u001b[0;31m \u001b[0m\u001b[0;31m`\u001b[0m\u001b[0mkwargs\u001b[0m\u001b[0;31m`\u001b[0m\u001b[0;34m.\u001b[0m\u001b[0;34m\u001b[0m\u001b[0;34m\u001b[0m\u001b[0m\n\u001b[1;32m   1606\u001b[0m     \"\"\"\n\u001b[0;32m-> 1607\u001b[0;31m     return self._call_flat(\n\u001b[0m\u001b[1;32m   1608\u001b[0m         (t for t in nest.flatten((args, kwargs), expand_composites=True)\n\u001b[1;32m   1609\u001b[0m          if isinstance(t, (ops.Tensor,\n",
      "\u001b[0;32m/cvmfs/cms.cern.ch/slc7_amd64_gcc820/external/py3-tensorflow/2.1.0-bcolbf2/lib/python3.8/site-packages/tensorflow_core/python/eager/function.py\u001b[0m in \u001b[0;36m_call_flat\u001b[0;34m(self, args, captured_inputs, cancellation_manager)\u001b[0m\n\u001b[1;32m   1689\u001b[0m         and executing_eagerly):\n\u001b[1;32m   1690\u001b[0m       \u001b[0;31m# No tape is watching; skip to running the function.\u001b[0m\u001b[0;34m\u001b[0m\u001b[0;34m\u001b[0m\u001b[0;34m\u001b[0m\u001b[0m\n\u001b[0;32m-> 1691\u001b[0;31m       return self._build_call_outputs(self._inference_function.call(\n\u001b[0m\u001b[1;32m   1692\u001b[0m           ctx, args, cancellation_manager=cancellation_manager))\n\u001b[1;32m   1693\u001b[0m     forward_backward = self._select_forward_and_backward_functions(\n",
      "\u001b[0;32m/cvmfs/cms.cern.ch/slc7_amd64_gcc820/external/py3-tensorflow/2.1.0-bcolbf2/lib/python3.8/site-packages/tensorflow_core/python/eager/function.py\u001b[0m in \u001b[0;36mcall\u001b[0;34m(self, ctx, args, cancellation_manager)\u001b[0m\n\u001b[1;32m    538\u001b[0m       \u001b[0;32mwith\u001b[0m \u001b[0m_InterpolateFunctionError\u001b[0m\u001b[0;34m(\u001b[0m\u001b[0mself\u001b[0m\u001b[0;34m)\u001b[0m\u001b[0;34m:\u001b[0m\u001b[0;34m\u001b[0m\u001b[0;34m\u001b[0m\u001b[0m\n\u001b[1;32m    539\u001b[0m         \u001b[0;32mif\u001b[0m \u001b[0mcancellation_manager\u001b[0m \u001b[0;32mis\u001b[0m \u001b[0;32mNone\u001b[0m\u001b[0;34m:\u001b[0m\u001b[0;34m\u001b[0m\u001b[0;34m\u001b[0m\u001b[0m\n\u001b[0;32m--> 540\u001b[0;31m           outputs = execute.execute(\n\u001b[0m\u001b[1;32m    541\u001b[0m               \u001b[0mstr\u001b[0m\u001b[0;34m(\u001b[0m\u001b[0mself\u001b[0m\u001b[0;34m.\u001b[0m\u001b[0msignature\u001b[0m\u001b[0;34m.\u001b[0m\u001b[0mname\u001b[0m\u001b[0;34m)\u001b[0m\u001b[0;34m,\u001b[0m\u001b[0;34m\u001b[0m\u001b[0;34m\u001b[0m\u001b[0m\n\u001b[1;32m    542\u001b[0m               \u001b[0mnum_outputs\u001b[0m\u001b[0;34m=\u001b[0m\u001b[0mself\u001b[0m\u001b[0;34m.\u001b[0m\u001b[0m_num_outputs\u001b[0m\u001b[0;34m,\u001b[0m\u001b[0;34m\u001b[0m\u001b[0;34m\u001b[0m\u001b[0m\n",
      "\u001b[0;32m/cvmfs/cms.cern.ch/slc7_amd64_gcc820/external/py3-tensorflow/2.1.0-bcolbf2/lib/python3.8/site-packages/tensorflow_core/python/eager/execute.py\u001b[0m in \u001b[0;36mquick_execute\u001b[0;34m(op_name, num_outputs, inputs, attrs, ctx, name)\u001b[0m\n\u001b[1;32m     57\u001b[0m   \u001b[0;32mtry\u001b[0m\u001b[0;34m:\u001b[0m\u001b[0;34m\u001b[0m\u001b[0;34m\u001b[0m\u001b[0m\n\u001b[1;32m     58\u001b[0m     \u001b[0mctx\u001b[0m\u001b[0;34m.\u001b[0m\u001b[0mensure_initialized\u001b[0m\u001b[0;34m(\u001b[0m\u001b[0;34m)\u001b[0m\u001b[0;34m\u001b[0m\u001b[0;34m\u001b[0m\u001b[0m\n\u001b[0;32m---> 59\u001b[0;31m     tensors = pywrap_tensorflow.TFE_Py_Execute(ctx._handle, device_name,\n\u001b[0m\u001b[1;32m     60\u001b[0m                                                \u001b[0mop_name\u001b[0m\u001b[0;34m,\u001b[0m \u001b[0minputs\u001b[0m\u001b[0;34m,\u001b[0m \u001b[0mattrs\u001b[0m\u001b[0;34m,\u001b[0m\u001b[0;34m\u001b[0m\u001b[0;34m\u001b[0m\u001b[0m\n\u001b[1;32m     61\u001b[0m                                                num_outputs)\n",
      "\u001b[0;31mKeyboardInterrupt\u001b[0m: "
     ]
    }
   ],
   "source": [
    "m_autoCNN.fit(inputQf_443_arr,inputQf_443_arr,\n",
    "             epochs = 10)"
   ]
  },
  {
   "cell_type": "code",
   "execution_count": null,
   "metadata": {},
   "outputs": [],
   "source": []
  }
 ],
 "metadata": {
  "kernelspec": {
   "display_name": "Python 3",
   "language": "python",
   "name": "python3"
  },
  "language_info": {
   "codemirror_mode": {
    "name": "ipython",
    "version": 3
   },
   "file_extension": ".py",
   "mimetype": "text/x-python",
   "name": "python",
   "nbconvert_exporter": "python",
   "pygments_lexer": "ipython3",
   "version": "3.8.2"
  }
 },
 "nbformat": 4,
 "nbformat_minor": 2
}
