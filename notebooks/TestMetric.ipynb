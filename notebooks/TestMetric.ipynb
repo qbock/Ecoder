{
 "cells": [
  {
   "cell_type": "code",
   "execution_count": 2,
   "metadata": {},
   "outputs": [],
   "source": [
    "import numpy as np\n",
    "import pandas as pd\n",
    "import math\n",
    "\n",
    "import sys\n",
    "sys.path.insert(0, \"../\")\n",
    "\n",
    "#import DataGenerator\n",
    "\n",
    "from qDenseCNN import qDenseCNN\n",
    "from denseCNN import denseCNN"
   ]
  },
  {
   "cell_type": "code",
   "execution_count": 36,
   "metadata": {},
   "outputs": [],
   "source": [
    "%matplotlib inline\n",
    "import matplotlib.pyplot as plt\n",
    "import matplotlib\n",
    "matplotlib.use('PDF')"
   ]
  },
  {
   "cell_type": "code",
   "execution_count": 8,
   "metadata": {},
   "outputs": [],
   "source": [
    "from martinModels import models\n",
    "import graphUtil\n",
    "import numba"
   ]
  },
  {
   "cell_type": "code",
   "execution_count": 9,
   "metadata": {},
   "outputs": [],
   "source": [
    "from plotWafer import plotWafer"
   ]
  },
  {
   "cell_type": "code",
   "execution_count": 10,
   "metadata": {},
   "outputs": [],
   "source": [
    "from train import emd"
   ]
  },
  {
   "cell_type": "code",
   "execution_count": 11,
   "metadata": {},
   "outputs": [],
   "source": [
    "def invertArrange(arrange):\n",
    "    remap =[]\n",
    "    hashmap = {}\n",
    "    for i in range(len(arrange)):\n",
    "        hashmap[arrange[i]]=i\n",
    "    for i in range(len(arrange)):        \n",
    "        remap.append(hashmap[i])\n",
    "    return np.array(remap)\n",
    "\n",
    "arrange443 = np.array([0,16, 32,\n",
    "                       1,17, 33,\n",
    "                       2,18, 34,\n",
    "                       3,19, 35,\n",
    "                       4,20, 36,\n",
    "                       5,21, 37,\n",
    "                       6,22, 38,\n",
    "                       7,23, 39,\n",
    "                       8,24, 40,\n",
    "                       9,25, 41,\n",
    "                       10,26, 42,\n",
    "                       11,27, 43,\n",
    "                       12,28, 44,\n",
    "                       13,29, 45,\n",
    "                       14,30, 46,\n",
    "                       15,31, 47])\n",
    "remap = invertArrange(arrange443)"
   ]
  },
  {
   "cell_type": "code",
   "execution_count": 126,
   "metadata": {},
   "outputs": [],
   "source": [
    "@numba.jit\n",
    "def unnormalize(norm_data,maxvals,rescaleOutputToMax=False):\n",
    "    for i in range(len(norm_data)):\n",
    "        if rescaleOutputToMax:\n",
    "            norm_data[i] =  norm_data[i] * maxvals[i] / (norm_data[i].max() if norm_data[i].max() else 1.)\n",
    "        else:\n",
    "            norm_data[i] =  norm_data[i] * maxvals[i] / (norm_data[i].sum() if norm_data[i].sum() else 1.)\n",
    "    return norm_data\n",
    "@numba.jit\n",
    "def normalize(data,rescaleInputToMax=False):\n",
    "    maxes =[]\n",
    "    sums =[]\n",
    "    for i in range(len(data)):\n",
    "        maxes.append( data[i].max() )\n",
    "        sums.append( data[i].sum() )\n",
    "        if rescaleInputToMax:\n",
    "            data[i] = 1.*data[i]/(data[i].max() if data[i].max() else 1.)\n",
    "        else:\n",
    "            data[i] = 1.*data[i]/(data[i].sum() if data[i].sum() else 1.)\n",
    "    return data,np.array(maxes),np.array(sums)"
   ]
  },
  {
   "cell_type": "code",
   "execution_count": 13,
   "metadata": {},
   "outputs": [],
   "source": [
    "model_folder = '../V11/signal/nElinks_5/Sep1_CNN_keras_norm/'\n",
    "model_name = model_folder.split('/')[-2]\n",
    "f_model         = model_folder+'/'+model_name+\".json\"\n",
    "f_encoder       = model_folder+'/'+\"encoder_\"+model_name+\".json\"\n",
    "f_encoder_pkl   = model_folder+'/'+\"encoder_\"+model_name+\".pkl\"\n",
    "f_encoder_pb    = model_folder+'/'+\"encoder_\"+model_name+\".pb\"\n",
    "f_decoder       = model_folder+'/'+\"decoder_\"+model_name+\".json\"\n",
    "verify_input    = model_folder+'verify_input.csv'\n",
    "verify_output   = model_folder+'verify_output.csv'\n",
    "vinput  = np.genfromtxt(verify_input, delimiter=',')\n",
    "voutput = np.genfromtxt(verify_output, delimiter=',')"
   ]
  },
  {
   "cell_type": "code",
   "execution_count": 14,
   "metadata": {},
   "outputs": [],
   "source": [
    "encoder       =  graphUtil.loadModel(f_encoder)\n",
    "autoencoder   = graphUtil.loadModel(f_model)"
   ]
  },
  {
   "cell_type": "code",
   "execution_count": 153,
   "metadata": {},
   "outputs": [],
   "source": [
    "f_raw = '../SampleSplitting_SignalAllocation/nElinks_5/ttbar_v11_eolNoise_Layer9_5Links.csv'\n",
    "calQ     = np.genfromtxt(f_raw, delimiter=',',usecols=[*range(0, 48)],skip_header=2000,max_rows=10000)\n",
    "sumQ     = calQ.sum(axis=1)\n",
    "calQ     = calQ[sumQ>0]\n",
    "sumQ     = sumQ[sumQ>0]\n",
    "\n",
    "inputQf_48_arr   = np.array([calQ[i]/s for i,s in enumerate(sumQ)])[:,arrange443]  \n",
    "inputQf_443_arr  = inputQf_48_arr.reshape(len(inputQf_48_arr),4,4,3)\n",
    "inputQ_48_arr    = np.array([inputQf_48_arr[i]*s for i,s in enumerate(sumQ)])              \n",
    "inputQ_443_arr   =  inputQ_48_arr.reshape(len(inputQ_48_arr),4,4,3) \n",
    "inputQ_48_calQ   =  inputQ_48_arr[:,remap] \n",
    "outputQf_443_arr  = autoencoder.predict(inputQf_443_arr)\n",
    "outputQ_443_arr   = unnormalize(outputQf_443_arr,sumQ)\n",
    "outputQ_48_calQ   = outputQ_443_arr.reshape(len(outputQ_443_arr),48)[:,remap]\n",
    "\n",
    "emd_arr  = np.array(  [emd(inputQ_443_arr[i],outputQ_443_arr[i]) for i in range(0,len(inputQ_443_arr))])\n",
    "emd_calQ = np.array(  [emd(inputQ_48_calQ[i],outputQ_48_calQ[i]) for i in range(0,len(calQ))] )               "
   ]
  },
  {
   "cell_type": "code",
   "execution_count": null,
   "metadata": {},
   "outputs": [],
   "source": [
    "emd_calQ = np.array(  [emd(calQ[i]          ,outputQ_48_calQ[i]) for i in range(0,len(calQ))] )               "
   ]
  },
  {
   "cell_type": "code",
   "execution_count": 76,
   "metadata": {},
   "outputs": [
    {
     "name": "stdout",
     "output_type": "stream",
     "text": [
      "inputQ: [ 0.  0.  8.  0.  0.  0. 30.  0.  0.  0.  0.  0.  0.  0.  0.  0.  0.  0.\n",
      "  0.  0.  0.  0.  0.  0.  6.  0.  0.  0.  0.  0.  0.  0.  0.  0.  0.  6.\n",
      "  0.  0.  0.  0.  0.  0.  0.  0.  0.  0.  0.  0.]\n",
      "ouputQ: [ 0.  0.  3.  0.  2.  0. 23.  2.  0.  0.  0.  1.  0.  0.  0.  0.  0.  0.\n",
      "  0.  1.  1.  0.  1.  0.  1.  0.  0.  0.  0.  0.  0.  0.  0.  0.  4.  0.\n",
      "  0.  1.  0.  3.  2.  0.  0.  1.  0.  0.  0.  0.]\n",
      "inputQ sum = 50.0\n",
      "ouputQ sum =  50.000008\n"
     ]
    }
   ],
   "source": [
    "print('inputQ:',calQ[1])\n",
    "print('ouputQ:',np.round(outputQ_48_calQ[1]))\n",
    "print('inputQ sum =',calQ[1].sum())\n",
    "print('ouputQ sum = ',outputQ_48_calQ[1].sum())"
   ]
  },
  {
   "cell_type": "code",
   "execution_count": 194,
   "metadata": {},
   "outputs": [
    {
     "ename": "AttributeError",
     "evalue": "module 'matplotlib.pyplot' has no attribute 'setlogy'",
     "output_type": "error",
     "traceback": [
      "\u001b[0;31m---------------------------------------------------------------------------\u001b[0m",
      "\u001b[0;31mAttributeError\u001b[0m                            Traceback (most recent call last)",
      "\u001b[0;32m<ipython-input-194-01ada54d23e6>\u001b[0m in \u001b[0;36m<module>\u001b[0;34m\u001b[0m\n\u001b[0;32m----> 1\u001b[0;31m \u001b[0mplt\u001b[0m\u001b[0;34m.\u001b[0m\u001b[0msetlogy\u001b[0m\u001b[0;34m(\u001b[0m\u001b[0;36m1\u001b[0m\u001b[0;34m)\u001b[0m\u001b[0;34m\u001b[0m\u001b[0;34m\u001b[0m\u001b[0m\n\u001b[0m\u001b[1;32m      2\u001b[0m \u001b[0mplt\u001b[0m\u001b[0;34m.\u001b[0m\u001b[0mhist\u001b[0m\u001b[0;34m(\u001b[0m\u001b[0msumQ\u001b[0m\u001b[0;34m,\u001b[0m\u001b[0;36m50\u001b[0m\u001b[0;34m)\u001b[0m\u001b[0;34m\u001b[0m\u001b[0;34m\u001b[0m\u001b[0m\n",
      "\u001b[0;31mAttributeError\u001b[0m: module 'matplotlib.pyplot' has no attribute 'setlogy'"
     ]
    }
   ],
   "source": [
    "plt.setlogy(1)\n",
    "plt.hist(sumQ,50)"
   ]
  },
  {
   "cell_type": "code",
   "execution_count": 189,
   "metadata": {},
   "outputs": [
    {
     "data": {
      "text/plain": [
       "8932"
      ]
     },
     "execution_count": 189,
     "metadata": {},
     "output_type": "execute_result"
    }
   ],
   "source": [
    "len(calQ)"
   ]
  },
  {
   "cell_type": "code",
   "execution_count": 186,
   "metadata": {},
   "outputs": [
    {
     "data": {
      "text/plain": [
       "5000"
      ]
     },
     "execution_count": 186,
     "metadata": {},
     "output_type": "execute_result"
    }
   ],
   "source": [
    "## list high occ indices\n",
    "occ = (np.count_nonzero(calQ>1,axis=1))\n",
    "np.where(occ<5)[0][3726]"
   ]
  },
  {
   "cell_type": "code",
   "execution_count": 178,
   "metadata": {},
   "outputs": [
    {
     "data": {
      "text/plain": [
       "8.203823487156942"
      ]
     },
     "execution_count": 178,
     "metadata": {},
     "output_type": "execute_result"
    }
   ],
   "source": [
    "max(emd_calQ[np.where(occ<5)[0]])"
   ]
  },
  {
   "cell_type": "code",
   "execution_count": 182,
   "metadata": {},
   "outputs": [
    {
     "data": {
      "text/plain": [
       "8.203823487156942"
      ]
     },
     "execution_count": 182,
     "metadata": {},
     "output_type": "execute_result"
    }
   ],
   "source": [
    "emd_calQ[np.where(occ<5)[0]][3726]"
   ]
  },
  {
   "cell_type": "code",
   "execution_count": 181,
   "metadata": {},
   "outputs": [
    {
     "data": {
      "text/plain": [
       "3726"
      ]
     },
     "execution_count": 181,
     "metadata": {},
     "output_type": "execute_result"
    }
   ],
   "source": [
    "np.argmax(emd_calQ[np.where(occ<5)[0]])"
   ]
  },
  {
   "cell_type": "code",
   "execution_count": 116,
   "metadata": {},
   "outputs": [
    {
     "data": {
      "text/plain": [
       "3.4249237417423166"
      ]
     },
     "execution_count": 116,
     "metadata": {},
     "output_type": "execute_result"
    }
   ],
   "source": [
    "emd_calQ[97]"
   ]
  },
  {
   "cell_type": "code",
   "execution_count": 117,
   "metadata": {},
   "outputs": [
    {
     "data": {
      "text/plain": [
       "1.059779950378112"
      ]
     },
     "execution_count": 117,
     "metadata": {},
     "output_type": "execute_result"
    }
   ],
   "source": [
    "np.quantile(emd_calQ,0.2)"
   ]
  },
  {
   "cell_type": "code",
   "execution_count": 118,
   "metadata": {},
   "outputs": [
    {
     "data": {
      "text/plain": [
       "3.2269536726734973"
      ]
     },
     "execution_count": 118,
     "metadata": {},
     "output_type": "execute_result"
    }
   ],
   "source": [
    "np.quantile(emd_calQ,0.9)"
   ]
  },
  {
   "cell_type": "code",
   "execution_count": 122,
   "metadata": {},
   "outputs": [
    {
     "data": {
      "text/plain": [
       "array([14, 16, 17, 22, 27, 30, 32, 33, 35])"
      ]
     },
     "execution_count": 122,
     "metadata": {},
     "output_type": "execute_result"
    }
   ],
   "source": [
    "np.where(emd_calQ<np.quantile(emd_calQ,0.2))[0][1:10]"
   ]
  },
  {
   "cell_type": "code",
   "execution_count": 121,
   "metadata": {},
   "outputs": [
    {
     "data": {
      "text/plain": [
       "array([19, 21, 23, 29, 43, 54, 66, 76, 84])"
      ]
     },
     "execution_count": 121,
     "metadata": {},
     "output_type": "execute_result"
    }
   ],
   "source": [
    "np.where(emd_calQ>np.quantile(emd_calQ,0.9))[0][1:10]"
   ]
  },
  {
   "cell_type": "code",
   "execution_count": 164,
   "metadata": {},
   "outputs": [
    {
     "name": "stdout",
     "output_type": "stream",
     "text": [
      "[0.   0.   0.   0.   0.   0.   0.   0.   0.   0.   0.   0.   0.   0.\n",
      " 0.   0.   0.   0.   0.   3.99 0.   0.   0.   0.   0.   0.   0.   0.\n",
      " 0.   0.   0.   0.   0.   0.   3.99 0.   0.   0.   0.   0.   0.   0.\n",
      " 3.01 0.   0.   3.01 0.   0.  ]\n"
     ]
    }
   ],
   "source": [
    "print(a*35)"
   ]
  },
  {
   "cell_type": "code",
   "execution_count": 103,
   "metadata": {},
   "outputs": [
    {
     "data": {
      "text/plain": [
       "0.8437573511108429"
      ]
     },
     "execution_count": 103,
     "metadata": {},
     "output_type": "execute_result"
    }
   ],
   "source": [
    "i = 100\n",
    "emd(inputQ_443_arr[i],outputQ_443_arr[i])"
   ]
  },
  {
   "cell_type": "code",
   "execution_count": 190,
   "metadata": {},
   "outputs": [
    {
     "data": {
      "text/plain": [
       "Text(0.5, 0.98, 'EMD = 8.204, occ = 1, sumQ = 43.0')"
      ]
     },
     "execution_count": 190,
     "metadata": {},
     "output_type": "execute_result"
    },
    {
     "data": {
      "image/png": "[encoded data removed]",
      "text/plain": [
       "<Figure size 720x288 with 4 Axes>"
      ]
     },
     "metadata": {
      "needs_background": "light"
     },
     "output_type": "display_data"
    }
   ],
   "source": [
    "i = 5000\n",
    "\n",
    "fig, axs = plt.subplots(1,2, figsize=(10, 4))\n",
    "axs[0].set(title='inputQ')\n",
    "axs[1].set(title='outputQ')\n",
    "minQ = min(min(calQ[i]),min(outputQ_48_calQ[i]))\n",
    "maxQ = max(max(calQ[i]),max(outputQ_48_calQ[i]))\n",
    "plotWafer(calQ[i], fig, axs[0], scale=(minQ,maxQ))\n",
    "plotWafer(outputQ_48_calQ[i], fig, axs[1], scale=(minQ,maxQ))\n",
    "fig.suptitle('EMD = %.3f, occ = %s, sumQ = %s'%(emd_calQ[i],occ[i],sumQ[i]))"
   ]
  },
  {
   "cell_type": "code",
   "execution_count": 175,
   "metadata": {},
   "outputs": [
    {
     "data": {
      "text/plain": [
       "48"
      ]
     },
     "execution_count": 175,
     "metadata": {},
     "output_type": "execute_result"
    }
   ],
   "source": []
  },
  {
   "cell_type": "code",
   "execution_count": null,
   "metadata": {},
   "outputs": [],
   "source": []
  }
 ],
 "metadata": {
  "kernelspec": {
   "display_name": "Python 3",
   "language": "python",
   "name": "python3"
  },
  "language_info": {
   "codemirror_mode": {
    "name": "ipython",
    "version": 3
   },
   "file_extension": ".py",
   "mimetype": "text/x-python",
   "name": "python",
   "nbconvert_exporter": "python",
   "pygments_lexer": "ipython3",
   "version": "3.8.2"
  }
 },
 "nbformat": 4,
 "nbformat_minor": 2
}
