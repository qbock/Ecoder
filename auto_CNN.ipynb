{
 "cells": [
  {
   "cell_type": "code",
   "execution_count": 1,
   "metadata": {
    "pycharm": {
     "is_executing": false
    }
   },
   "outputs": [
    {
     "name": "stderr",
     "output_type": "stream",
     "text": [
      "Using TensorFlow backend.\n",
      "/home/bhawks/PycharmProjects/Ecoder/venv36/lib64/python3.6/site-packages/tensorflow/python/framework/dtypes.py:493: FutureWarning: Passing (type, 1) or '1type' as a synonym of type is deprecated; in a future version of numpy, it will be understood as (type, (1,)) / '(1,)type'.\n",
      "  _np_qint8 = np.dtype([(\"qint8\", np.int8, 1)])\n",
      "/home/bhawks/PycharmProjects/Ecoder/venv36/lib64/python3.6/site-packages/tensorflow/python/framework/dtypes.py:494: FutureWarning: Passing (type, 1) or '1type' as a synonym of type is deprecated; in a future version of numpy, it will be understood as (type, (1,)) / '(1,)type'.\n",
      "  _np_quint8 = np.dtype([(\"quint8\", np.uint8, 1)])\n",
      "/home/bhawks/PycharmProjects/Ecoder/venv36/lib64/python3.6/site-packages/tensorflow/python/framework/dtypes.py:495: FutureWarning: Passing (type, 1) or '1type' as a synonym of type is deprecated; in a future version of numpy, it will be understood as (type, (1,)) / '(1,)type'.\n",
      "  _np_qint16 = np.dtype([(\"qint16\", np.int16, 1)])\n",
      "/home/bhawks/PycharmProjects/Ecoder/venv36/lib64/python3.6/site-packages/tensorflow/python/framework/dtypes.py:496: FutureWarning: Passing (type, 1) or '1type' as a synonym of type is deprecated; in a future version of numpy, it will be understood as (type, (1,)) / '(1,)type'.\n",
      "  _np_quint16 = np.dtype([(\"quint16\", np.uint16, 1)])\n",
      "/home/bhawks/PycharmProjects/Ecoder/venv36/lib64/python3.6/site-packages/tensorflow/python/framework/dtypes.py:497: FutureWarning: Passing (type, 1) or '1type' as a synonym of type is deprecated; in a future version of numpy, it will be understood as (type, (1,)) / '(1,)type'.\n",
      "  _np_qint32 = np.dtype([(\"qint32\", np.int32, 1)])\n",
      "/home/bhawks/PycharmProjects/Ecoder/venv36/lib64/python3.6/site-packages/tensorflow/python/framework/dtypes.py:502: FutureWarning: Passing (type, 1) or '1type' as a synonym of type is deprecated; in a future version of numpy, it will be understood as (type, (1,)) / '(1,)type'.\n",
      "  np_resource = np.dtype([(\"resource\", np.ubyte, 1)])\n"
     ]
    }
   ],
   "source": [
    "import keras as kr\n",
    "import numpy as np\n",
    "import tensorflow as tf\n",
    "import pandas as pd\n"
   ]
  },
  {
   "cell_type": "code",
   "execution_count": 2,
   "metadata": {
    "pycharm": {
     "is_executing": false
    }
   },
   "outputs": [],
   "source": [
    "import matplotlib.pyplot as plt"
   ]
  },
  {
   "cell_type": "code",
   "execution_count": 3,
   "metadata": {
    "pycharm": {
     "is_executing": false
    }
   },
   "outputs": [],
   "source": [
    "data = pd.read_csv(\"CALQ_output_10x.csv\")  ## big  300k file"
   ]
  },
  {
   "cell_type": "code",
   "execution_count": 4,
   "metadata": {
    "pycharm": {
     "is_executing": false
    }
   },
   "outputs": [],
   "source": [
    "normData = data.apply(lambda x: x/max(x),axis=1)\n",
    "#normDataSum = data.apply(lambda x: x/sum(x),axis=1)\n",
    "inputdata = normData.values"
   ]
  },
  {
   "cell_type": "code",
   "execution_count": 5,
   "metadata": {
    "pycharm": {
     "is_executing": false
    }
   },
   "outputs": [],
   "source": [
    "Nsamples = 50000\n",
    "#inputdata = normData.values[1:Nsamples]\n",
    "inputdata = normData.values"
   ]
  },
  {
   "cell_type": "code",
   "execution_count": 6,
   "metadata": {
    "pycharm": {
     "is_executing": false
    }
   },
   "outputs": [],
   "source": [
    "shaped_data = np.reshape(inputdata,(len(inputdata),12,4,1))"
   ]
  },
  {
   "cell_type": "code",
   "execution_count": 7,
   "metadata": {
    "pycharm": {
     "is_executing": false
    }
   },
   "outputs": [
    {
     "data": {
      "text/plain": [
       "(298458, 12, 4, 1)"
      ]
     },
     "execution_count": 7,
     "metadata": {},
     "output_type": "execute_result"
    }
   ],
   "source": [
    "shaped_data.shape"
   ]
  },
  {
   "cell_type": "code",
   "execution_count": 8,
   "metadata": {
    "pycharm": {
     "is_executing": false
    }
   },
   "outputs": [
    {
     "data": {
      "image/png": "[encoded data removed]",
      "text/plain": [
       "<Figure size 1152x360 with 10 Axes>"
      ]
     },
     "metadata": {
      "needs_background": "light"
     },
     "output_type": "display_data"
    }
   ],
   "source": [
    "Nevents = 10\n",
    "index = np.random.choice(shaped_data.shape[0], Nevents, replace=False)  \n",
    "\n",
    "x = shaped_data[index].reshape(Nevents,12,4)\n",
    "fig, axs = plt.subplots(1, Nevents, figsize=(16, 5))\n",
    "fig.suptitle('Example inputs',fontsize=16)\n",
    "for i in range(0,len(axs)):\n",
    "    axs[i].set(xlabel='cell_index',title='image_%i'%i)\n",
    "    c1=axs[i].imshow(x[i])\n",
    "\n",
    "#plt.colorbar(c1,ax=axs[len(axs)-1])\n",
    "plt.tight_layout()\n",
    "plt.show()"
   ]
  },
  {
   "cell_type": "code",
   "execution_count": 9,
   "metadata": {
    "pycharm": {
     "is_executing": false
    }
   },
   "outputs": [],
   "source": [
    "from keras.layers import Input, Dense, Conv2D, MaxPooling2D, UpSampling2D\n",
    "from keras.models import Model\n",
    "from keras import backend as K\n",
    "\n",
    "input_img = Input(shape=(12,4,1))  # adapt this if using `channels_first` image data format\n",
    "\n",
    "x = Conv2D(16, (3, 3), activation='relu', padding='same')(input_img)\n",
    "x = MaxPooling2D((2, 2), padding='same')(x)\n",
    "x = Conv2D(8, (3, 3), activation='relu', padding='same')(x)\n",
    "x = MaxPooling2D((2, 2), padding='same')(x)\n",
    "x = Conv2D(4, (3, 3), activation='relu', padding='same')(x)\n",
    "encoded = MaxPooling2D((2, 2), padding='same')(x)\n",
    "\n",
    "# at this point the representation is (4, 4, 8) i.e. 128-dimensional\n",
    "\n",
    "x = Conv2D(4, (3, 3), activation='relu', padding='same')(encoded)\n",
    "x = UpSampling2D((2, 2))(x)\n",
    "x = Conv2D(8, (3, 3), activation='relu', padding='same')(x)\n",
    "x = UpSampling2D((2, 2))(x)\n",
    "x = Conv2D(16, (3, 3), activation='relu')(x)\n",
    "x = UpSampling2D((2, 2))(x)\n",
    "decoded = Conv2D(1, (3, 3), activation='sigmoid', padding='same')(x)\n",
    "\n",
    "autoencoder = Model(input_img, decoded)\n",
    "autoencoder.compile(optimizer='adadelta', loss='binary_crossentropy')"
   ]
  },
  {
   "cell_type": "code",
   "execution_count": null,
   "metadata": {
    "pycharm": {
     "is_executing": false
    }
   },
   "outputs": [],
   "source": []
  },
  {
   "cell_type": "code",
   "execution_count": 10,
   "metadata": {
    "pycharm": {
     "is_executing": false
    }
   },
   "outputs": [
    {
     "name": "stdout",
     "output_type": "stream",
     "text": [
      "_________________________________________________________________\n",
      "Layer (type)                 Output Shape              Param #   \n",
      "=================================================================\n",
      "input_1 (InputLayer)         (None, 12, 4, 1)          0         \n",
      "_________________________________________________________________\n",
      "conv2d_1 (Conv2D)            (None, 12, 4, 16)         160       \n",
      "_________________________________________________________________\n",
      "max_pooling2d_1 (MaxPooling2 (None, 6, 2, 16)          0         \n",
      "_________________________________________________________________\n",
      "conv2d_2 (Conv2D)            (None, 6, 2, 8)           1160      \n",
      "_________________________________________________________________\n",
      "max_pooling2d_2 (MaxPooling2 (None, 3, 1, 8)           0         \n",
      "_________________________________________________________________\n",
      "conv2d_3 (Conv2D)            (None, 3, 1, 4)           292       \n",
      "_________________________________________________________________\n",
      "max_pooling2d_3 (MaxPooling2 (None, 2, 1, 4)           0         \n",
      "_________________________________________________________________\n",
      "conv2d_4 (Conv2D)            (None, 2, 1, 4)           148       \n",
      "_________________________________________________________________\n",
      "up_sampling2d_1 (UpSampling2 (None, 4, 2, 4)           0         \n",
      "_________________________________________________________________\n",
      "conv2d_5 (Conv2D)            (None, 4, 2, 8)           296       \n",
      "_________________________________________________________________\n",
      "up_sampling2d_2 (UpSampling2 (None, 8, 4, 8)           0         \n",
      "_________________________________________________________________\n",
      "conv2d_6 (Conv2D)            (None, 6, 2, 16)          1168      \n",
      "_________________________________________________________________\n",
      "up_sampling2d_3 (UpSampling2 (None, 12, 4, 16)         0         \n",
      "_________________________________________________________________\n",
      "conv2d_7 (Conv2D)            (None, 12, 4, 1)          145       \n",
      "=================================================================\n",
      "Total params: 3,369\n",
      "Trainable params: 3,369\n",
      "Non-trainable params: 0\n",
      "_________________________________________________________________\n"
     ]
    }
   ],
   "source": [
    "autoencoder.summary()"
   ]
  },
  {
   "cell_type": "code",
   "execution_count": 11,
   "metadata": {
    "pycharm": {
     "is_executing": false
    }
   },
   "outputs": [
    {
     "name": "stdout",
     "output_type": "stream",
     "text": [
      "_________________________________________________________________\n",
      "Layer (type)                 Output Shape              Param #   \n",
      "=================================================================\n",
      "input_1 (InputLayer)         (None, 12, 4, 1)          0         \n",
      "_________________________________________________________________\n",
      "conv2d_1 (Conv2D)            (None, 12, 4, 16)         160       \n",
      "_________________________________________________________________\n",
      "max_pooling2d_1 (MaxPooling2 (None, 6, 2, 16)          0         \n",
      "_________________________________________________________________\n",
      "conv2d_2 (Conv2D)            (None, 6, 2, 8)           1160      \n",
      "_________________________________________________________________\n",
      "max_pooling2d_2 (MaxPooling2 (None, 3, 1, 8)           0         \n",
      "_________________________________________________________________\n",
      "conv2d_3 (Conv2D)            (None, 3, 1, 4)           292       \n",
      "_________________________________________________________________\n",
      "max_pooling2d_3 (MaxPooling2 (None, 2, 1, 4)           0         \n",
      "=================================================================\n",
      "Total params: 1,612\n",
      "Trainable params: 1,612\n",
      "Non-trainable params: 0\n",
      "_________________________________________________________________\n"
     ]
    }
   ],
   "source": [
    "encoder = Model(input_img, encoded)\n",
    "encoder.summary()"
   ]
  },
  {
   "cell_type": "code",
   "execution_count": 12,
   "metadata": {
    "pycharm": {
     "is_executing": false
    }
   },
   "outputs": [],
   "source": [
    "from keras.callbacks import Callback \n",
    "validation_frac = 0.2\n",
    "N = round(len(shaped_data)*validation_frac)\n",
    "\n",
    "#randomly select 25% entries\n",
    "index = np.random.choice(shaped_data.shape[0], N, replace=False)  \n",
    "#select the indices of the other 75%\n",
    "full_index = np.array(range(0,len(shaped_data)))\n",
    "train_index = np.logical_not(np.in1d(full_index,index))\n",
    "\n",
    "val_input = shaped_data[index]\n",
    "train_input = shaped_data[train_index]"
   ]
  },
  {
   "cell_type": "code",
   "execution_count": 13,
   "metadata": {
    "pycharm": {
     "is_executing": false
    }
   },
   "outputs": [
    {
     "name": "stdout",
     "output_type": "stream",
     "text": [
      "(238766, 12, 4, 1)\n",
      "(59692, 12, 4, 1)\n"
     ]
    }
   ],
   "source": [
    "print(train_input.shape)\n",
    "print(val_input.shape)"
   ]
  },
  {
   "cell_type": "code",
   "execution_count": 14,
   "metadata": {
    "pycharm": {
     "is_executing": false
    }
   },
   "outputs": [
    {
     "name": "stdout",
     "output_type": "stream",
     "text": [
      "Train on 238766 samples, validate on 59692 samples\n",
      "Epoch 1/150\n",
      "238766/238766 [==============================] - 25s 105us/step - loss: 0.2825 - val_loss: 0.2621\n",
      "Epoch 2/150\n",
      "238766/238766 [==============================] - 21s 90us/step - loss: 0.2578 - val_loss: 0.2526\n",
      "Epoch 3/150\n",
      "238766/238766 [==============================] - 22s 90us/step - loss: 0.2516 - val_loss: 0.2501\n",
      "Epoch 4/150\n",
      "238766/238766 [==============================] - 22s 91us/step - loss: 0.2498 - val_loss: 0.2484\n",
      "Epoch 5/150\n",
      "238766/238766 [==============================] - 22s 91us/step - loss: 0.2490 - val_loss: 0.2478\n",
      "Epoch 6/150\n",
      "238766/238766 [==============================] - 22s 93us/step - loss: 0.2481 - val_loss: 0.2469\n",
      "Epoch 7/150\n",
      "238766/238766 [==============================] - 22s 94us/step - loss: 0.2472 - val_loss: 0.2455\n",
      "Epoch 8/150\n",
      "238766/238766 [==============================] - 22s 91us/step - loss: 0.2443 - val_loss: 0.2413\n",
      "Epoch 9/150\n",
      "238766/238766 [==============================] - 23s 95us/step - loss: 0.2413 - val_loss: 0.2392\n",
      "Epoch 10/150\n",
      "238766/238766 [==============================] - 22s 92us/step - loss: 0.2400 - val_loss: 0.2387\n",
      "Epoch 11/150\n",
      "238766/238766 [==============================] - 22s 92us/step - loss: 0.2390 - val_loss: 0.2378\n",
      "Epoch 12/150\n",
      "238766/238766 [==============================] - 22s 92us/step - loss: 0.2381 - val_loss: 0.2369\n",
      "Epoch 13/150\n",
      "238766/238766 [==============================] - 23s 97us/step - loss: 0.2373 - val_loss: 0.2353\n",
      "Epoch 14/150\n",
      "238766/238766 [==============================] - 24s 98us/step - loss: 0.2365 - val_loss: 0.2354\n",
      "Epoch 15/150\n",
      "238766/238766 [==============================] - 22s 92us/step - loss: 0.2349 - val_loss: 0.2323\n",
      "Epoch 16/150\n",
      "238766/238766 [==============================] - 23s 98us/step - loss: 0.2331 - val_loss: 0.2316\n",
      "Epoch 17/150\n",
      "238766/238766 [==============================] - 24s 99us/step - loss: 0.2315 - val_loss: 0.2306\n",
      "Epoch 18/150\n",
      "238766/238766 [==============================] - 23s 98us/step - loss: 0.2304 - val_loss: 0.2291\n",
      "Epoch 19/150\n",
      "238766/238766 [==============================] - 23s 95us/step - loss: 0.2296 - val_loss: 0.2281\n",
      "Epoch 20/150\n",
      "238766/238766 [==============================] - 26s 110us/step - loss: 0.2288 - val_loss: 0.2275\n",
      "Epoch 21/150\n",
      "238766/238766 [==============================] - 30s 126us/step - loss: 0.2282 - val_loss: 0.2265\n",
      "Epoch 22/150\n",
      "238766/238766 [==============================] - 30s 124us/step - loss: 0.2277 - val_loss: 0.2268\n",
      "Epoch 23/150\n",
      "238766/238766 [==============================] - 34s 141us/step - loss: 0.2272 - val_loss: 0.2262\n",
      "Epoch 24/150\n",
      "238766/238766 [==============================] - 33s 138us/step - loss: 0.2268 - val_loss: 0.2258\n",
      "Epoch 25/150\n",
      "238766/238766 [==============================] - 36s 152us/step - loss: 0.2264 - val_loss: 0.2253\n",
      "Epoch 26/150\n",
      "238766/238766 [==============================] - 35s 146us/step - loss: 0.2260 - val_loss: 0.2245\n",
      "Epoch 27/150\n",
      "238766/238766 [==============================] - 34s 141us/step - loss: 0.2256 - val_loss: 0.2241\n",
      "Epoch 28/150\n",
      "238766/238766 [==============================] - 29s 122us/step - loss: 0.2253 - val_loss: 0.2240\n",
      "Epoch 29/150\n",
      "238766/238766 [==============================] - 27s 113us/step - loss: 0.2250 - val_loss: 0.2241\n",
      "Epoch 30/150\n",
      "238766/238766 [==============================] - 30s 127us/step - loss: 0.2245 - val_loss: 0.2232\n",
      "Epoch 31/150\n",
      "238766/238766 [==============================] - 28s 118us/step - loss: 0.2243 - val_loss: 0.2224\n",
      "Epoch 32/150\n",
      "238766/238766 [==============================] - 28s 117us/step - loss: 0.2239 - val_loss: 0.2224\n",
      "Epoch 33/150\n",
      "238766/238766 [==============================] - 28s 119us/step - loss: 0.2236 - val_loss: 0.2221\n",
      "Epoch 34/150\n",
      "238766/238766 [==============================] - 29s 122us/step - loss: 0.2233 - val_loss: 0.2226\n",
      "Epoch 35/150\n",
      "238766/238766 [==============================] - 29s 120us/step - loss: 0.2230 - val_loss: 0.2226\n",
      "Epoch 36/150\n",
      "238766/238766 [==============================] - 28s 116us/step - loss: 0.2228 - val_loss: 0.2218\n",
      "Epoch 37/150\n",
      "238766/238766 [==============================] - 28s 116us/step - loss: 0.2224 - val_loss: 0.2211\n",
      "Epoch 38/150\n",
      "238766/238766 [==============================] - 28s 116us/step - loss: 0.2222 - val_loss: 0.2220\n",
      "Epoch 39/150\n",
      "238766/238766 [==============================] - 27s 114us/step - loss: 0.2219 - val_loss: 0.2215\n",
      "Epoch 40/150\n",
      "238766/238766 [==============================] - 27s 112us/step - loss: 0.2217 - val_loss: 0.2210\n",
      "Epoch 41/150\n",
      "238766/238766 [==============================] - 27s 113us/step - loss: 0.2215 - val_loss: 0.2214\n",
      "Epoch 42/150\n",
      "238766/238766 [==============================] - 28s 117us/step - loss: 0.2213 - val_loss: 0.2200\n",
      "Epoch 43/150\n",
      "238766/238766 [==============================] - 28s 119us/step - loss: 0.2211 - val_loss: 0.2197\n",
      "Epoch 44/150\n",
      "238766/238766 [==============================] - 29s 121us/step - loss: 0.2209 - val_loss: 0.2200\n",
      "Epoch 45/150\n",
      "238766/238766 [==============================] - 29s 121us/step - loss: 0.2207 - val_loss: 0.2195\n",
      "Epoch 46/150\n",
      "238766/238766 [==============================] - 29s 119us/step - loss: 0.2204 - val_loss: 0.2187\n",
      "Epoch 47/150\n",
      "238766/238766 [==============================] - 28s 119us/step - loss: 0.2203 - val_loss: 0.2190\n",
      "Epoch 48/150\n",
      "238766/238766 [==============================] - 28s 116us/step - loss: 0.2201 - val_loss: 0.2199\n",
      "Epoch 49/150\n",
      "238766/238766 [==============================] - 28s 118us/step - loss: 0.2199 - val_loss: 0.2195\n",
      "Epoch 50/150\n",
      "238766/238766 [==============================] - 27s 115us/step - loss: 0.2198 - val_loss: 0.2181\n",
      "Epoch 51/150\n",
      "238766/238766 [==============================] - 28s 116us/step - loss: 0.2194 - val_loss: 0.2180\n",
      "Epoch 52/150\n",
      "238766/238766 [==============================] - 27s 113us/step - loss: 0.2192 - val_loss: 0.2186\n",
      "Epoch 53/150\n",
      "238766/238766 [==============================] - 26s 108us/step - loss: 0.2190 - val_loss: 0.2177\n",
      "Epoch 54/150\n",
      "238766/238766 [==============================] - 30s 124us/step - loss: 0.2188 - val_loss: 0.2180\n",
      "Epoch 55/150\n",
      "238766/238766 [==============================] - 29s 121us/step - loss: 0.2182 - val_loss: 0.2171\n",
      "Epoch 56/150\n",
      "238766/238766 [==============================] - 28s 117us/step - loss: 0.2178 - val_loss: 0.2173\n",
      "Epoch 57/150\n",
      "238766/238766 [==============================] - 28s 118us/step - loss: 0.2174 - val_loss: 0.2159\n",
      "Epoch 58/150\n",
      "238766/238766 [==============================] - 28s 118us/step - loss: 0.2168 - val_loss: 0.2166\n",
      "Epoch 59/150\n",
      "238766/238766 [==============================] - 29s 120us/step - loss: 0.2163 - val_loss: 0.2147\n",
      "Epoch 60/150\n",
      "238766/238766 [==============================] - 29s 122us/step - loss: 0.2160 - val_loss: 0.2159\n",
      "Epoch 61/150\n",
      "238766/238766 [==============================] - 30s 127us/step - loss: 0.2157 - val_loss: 0.2142\n",
      "Epoch 62/150\n",
      "238766/238766 [==============================] - 30s 125us/step - loss: 0.2153 - val_loss: 0.2140\n",
      "Epoch 63/150\n",
      "238766/238766 [==============================] - 29s 120us/step - loss: 0.2150 - val_loss: 0.2139\n",
      "Epoch 64/150\n",
      "238766/238766 [==============================] - 28s 119us/step - loss: 0.2148 - val_loss: 0.2142\n",
      "Epoch 65/150\n",
      "238766/238766 [==============================] - 28s 117us/step - loss: 0.2146 - val_loss: 0.2132\n",
      "Epoch 66/150\n",
      "238766/238766 [==============================] - 29s 120us/step - loss: 0.2143 - val_loss: 0.2135\n",
      "Epoch 67/150\n",
      "238766/238766 [==============================] - 28s 117us/step - loss: 0.2141 - val_loss: 0.2126\n",
      "Epoch 68/150\n",
      "238766/238766 [==============================] - 29s 121us/step - loss: 0.2139 - val_loss: 0.2128\n",
      "Epoch 69/150\n",
      "238766/238766 [==============================] - 28s 116us/step - loss: 0.2137 - val_loss: 0.2123\n",
      "Epoch 70/150\n",
      "238766/238766 [==============================] - 27s 115us/step - loss: 0.2135 - val_loss: 0.2128\n",
      "Epoch 71/150\n",
      "238766/238766 [==============================] - 28s 118us/step - loss: 0.2134 - val_loss: 0.2121\n",
      "Epoch 72/150\n",
      "238766/238766 [==============================] - 29s 122us/step - loss: 0.2131 - val_loss: 0.2117\n",
      "Epoch 73/150\n",
      "238766/238766 [==============================] - 30s 127us/step - loss: 0.2130 - val_loss: 0.2126\n",
      "Epoch 74/150\n"
     ]
    },
    {
     "name": "stdout",
     "output_type": "stream",
     "text": [
      "238766/238766 [==============================] - 27s 112us/step - loss: 0.2128 - val_loss: 0.2123\n",
      "Epoch 75/150\n",
      "238766/238766 [==============================] - 27s 113us/step - loss: 0.2127 - val_loss: 0.2118\n",
      "Epoch 76/150\n",
      "238766/238766 [==============================] - 26s 109us/step - loss: 0.2126 - val_loss: 0.2117\n",
      "Epoch 77/150\n",
      "238766/238766 [==============================] - 26s 110us/step - loss: 0.2123 - val_loss: 0.2112\n",
      "Epoch 78/150\n",
      "238766/238766 [==============================] - 24s 100us/step - loss: 0.2121 - val_loss: 0.2108\n",
      "Epoch 79/150\n",
      "238766/238766 [==============================] - 26s 111us/step - loss: 0.2120 - val_loss: 0.2108\n",
      "Epoch 80/150\n",
      "238766/238766 [==============================] - 27s 114us/step - loss: 0.2118 - val_loss: 0.2116\n",
      "Epoch 81/150\n",
      "238766/238766 [==============================] - 28s 117us/step - loss: 0.2117 - val_loss: 0.2106\n",
      "Epoch 82/150\n",
      "238766/238766 [==============================] - 30s 125us/step - loss: 0.2116 - val_loss: 0.2118\n",
      "Epoch 83/150\n",
      "238766/238766 [==============================] - 31s 130us/step - loss: 0.2114 - val_loss: 0.2113\n",
      "Epoch 84/150\n",
      "238766/238766 [==============================] - 30s 126us/step - loss: 0.2112 - val_loss: 0.2106\n",
      "Epoch 85/150\n",
      "238766/238766 [==============================] - 29s 123us/step - loss: 0.2110 - val_loss: 0.2103\n",
      "Epoch 86/150\n",
      "238766/238766 [==============================] - 29s 123us/step - loss: 0.2108 - val_loss: 0.2097\n",
      "Epoch 87/150\n",
      "238766/238766 [==============================] - 29s 120us/step - loss: 0.2107 - val_loss: 0.2092\n",
      "Epoch 88/150\n",
      "238766/238766 [==============================] - 29s 121us/step - loss: 0.2106 - val_loss: 0.2096\n",
      "Epoch 89/150\n",
      "238766/238766 [==============================] - 30s 125us/step - loss: 0.2103 - val_loss: 0.2097\n",
      "Epoch 90/150\n",
      "238766/238766 [==============================] - 28s 117us/step - loss: 0.2103 - val_loss: 0.2099\n",
      "Epoch 91/150\n",
      "238766/238766 [==============================] - 27s 115us/step - loss: 0.2102 - val_loss: 0.2091\n",
      "Epoch 92/150\n",
      "238766/238766 [==============================] - 29s 119us/step - loss: 0.2100 - val_loss: 0.2085\n",
      "Epoch 93/150\n",
      "238766/238766 [==============================] - 29s 120us/step - loss: 0.2100 - val_loss: 0.2083\n",
      "Epoch 94/150\n",
      "238766/238766 [==============================] - 29s 120us/step - loss: 0.2097 - val_loss: 0.2084\n",
      "Epoch 95/150\n",
      "238766/238766 [==============================] - 28s 119us/step - loss: 0.2097 - val_loss: 0.2085\n",
      "Epoch 96/150\n",
      "238766/238766 [==============================] - 26s 109us/step - loss: 0.2096 - val_loss: 0.2089\n",
      "Epoch 97/150\n",
      "238766/238766 [==============================] - 27s 111us/step - loss: 0.2095 - val_loss: 0.2082\n",
      "Epoch 98/150\n",
      "238766/238766 [==============================] - 26s 110us/step - loss: 0.2094 - val_loss: 0.2080\n",
      "Epoch 99/150\n",
      "238766/238766 [==============================] - 28s 116us/step - loss: 0.2092 - val_loss: 0.2083\n",
      "Epoch 100/150\n",
      "238766/238766 [==============================] - 28s 115us/step - loss: 0.2092 - val_loss: 0.2084\n",
      "Epoch 101/150\n",
      "238766/238766 [==============================] - 27s 114us/step - loss: 0.2091 - val_loss: 0.2085\n",
      "Epoch 102/150\n",
      "238766/238766 [==============================] - 27s 113us/step - loss: 0.2089 - val_loss: 0.2083\n",
      "Epoch 103/150\n",
      "238766/238766 [==============================] - 27s 112us/step - loss: 0.2088 - val_loss: 0.2071\n",
      "Epoch 104/150\n",
      "238766/238766 [==============================] - 28s 117us/step - loss: 0.2087 - val_loss: 0.2078\n",
      "Epoch 105/150\n",
      "238766/238766 [==============================] - 28s 117us/step - loss: 0.2086 - val_loss: 0.2075\n",
      "Epoch 106/150\n",
      "238766/238766 [==============================] - 29s 120us/step - loss: 0.2086 - val_loss: 0.2084\n",
      "Epoch 107/150\n",
      "238766/238766 [==============================] - 28s 119us/step - loss: 0.2086 - val_loss: 0.2072\n",
      "Epoch 108/150\n",
      "238766/238766 [==============================] - 28s 116us/step - loss: 0.2084 - val_loss: 0.2076\n",
      "Epoch 00108: early stopping\n"
     ]
    }
   ],
   "source": [
    "es = kr.callbacks.EarlyStopping(monitor='val_loss', mode='min', verbose=1, patience=5)\n",
    "history = autoencoder.fit(train_input,train_input,\n",
    "                epochs=150,\n",
    "                batch_size=500,\n",
    "                shuffle=True,\n",
    "                validation_data=(val_input,val_input),\n",
    "                callbacks=[es])"
   ]
  },
  {
   "cell_type": "code",
   "execution_count": 15,
   "metadata": {
    "pycharm": {
     "is_executing": false
    }
   },
   "outputs": [],
   "source": [
    "Layers = 'CNN_16_8_4_full'"
   ]
  },
  {
   "cell_type": "code",
   "execution_count": 16,
   "metadata": {
    "pycharm": {
     "is_executing": false
    },
    "scrolled": true
   },
   "outputs": [
    {
     "data": {
      "image/png": "[encoded data removed]",
      "text/plain": [
       "<Figure size 432x288 with 1 Axes>"
      ]
     },
     "metadata": {
      "needs_background": "light"
     },
     "output_type": "display_data"
    }
   ],
   "source": [
    "plt.plot(history.history['loss'])\n",
    "plt.plot(history.history['val_loss'])\n",
    "plt.title('Model loss %s'%Layers)\n",
    "plt.ylabel('Loss')\n",
    "plt.xlabel('Epoch')\n",
    "plt.legend(['Train', 'Test'], loc='upper right')\n",
    "plt.savefig(\"history_%s.png\"%Layers)\n",
    "plt.show()"
   ]
  },
  {
   "cell_type": "code",
   "execution_count": 17,
   "metadata": {
    "pycharm": {
     "is_executing": false
    }
   },
   "outputs": [],
   "source": [
    "x = val_input\n",
    "\n",
    "decoded_Q = autoencoder.predict(x)\n",
    "encoded_Q = encoder.predict(x)\n",
    "\n",
    "input_Q   = np.reshape(x,(len(x),12,4))\n",
    "decoded_Q = np.reshape(decoded_Q,(len(decoded_Q),12,4))\n",
    "encoded_shape = encoded_Q.shape\n",
    "encoded_Q = np.reshape(encoded_Q,(len(encoded_Q),encoded_shape[3],encoded_shape[1]))"
   ]
  },
  {
   "cell_type": "code",
   "execution_count": 18,
   "metadata": {
    "pycharm": {
     "is_executing": false
    }
   },
   "outputs": [
    {
     "data": {
      "image/png": "[encoded data removed]",
      "text/plain": [
       "<Figure size 1152x720 with 32 Axes>"
      ]
     },
     "metadata": {
      "needs_background": "light"
     },
     "output_type": "display_data"
    }
   ],
   "source": [
    "\n",
    "Nevents = 8\n",
    "index = np.random.choice(x.shape[0], Nevents, replace=False)  \n",
    "\n",
    "inputImg    = input_Q[index]\n",
    "encodedImg  = encoded_Q[index]\n",
    "outputImg   = decoded_Q[index]\n",
    "\n",
    "fig, axs = plt.subplots(3, Nevents, figsize=(16, 10))\n",
    "\n",
    "for i in range(0,Nevents):\n",
    "    if i==0:\n",
    "        axs[0,i].set(xlabel='',ylabel='cell_y',title='Input_%i'%i)\n",
    "    else:\n",
    "        axs[0,i].set(xlabel='',title='Input_%i'%i)        \n",
    "    c1=axs[0,i].imshow(inputImg[i])\n",
    "    \n",
    "for i in range(0,Nevents):\n",
    "    if i==0:\n",
    "        axs[1,i].set(xlabel='cell_x',ylabel='cell_y',title='Ouput_%i'%i)        \n",
    "    else:\n",
    "        axs[1,i].set(xlabel='cell_x',title='Ouput_%i'%i)\n",
    "    c1=axs[1,i].imshow(outputImg[i])\n",
    "\n",
    "for i in range(0,Nevents):\n",
    "    if i==0:\n",
    "        axs[2,i].set(xlabel='latent dim',ylabel='depth',title='Encoded_%i'%i)\n",
    "    else:\n",
    "        axs[2,i].set(xlabel='latent dim',title='Encoded_%i'%i)\n",
    "    c1=axs[2,i].imshow(encodedImg[i])\n",
    "    plt.colorbar(c1,ax=axs[2,i])\n",
    "\n",
    "plt.tight_layout()\n",
    "plt.savefig(\"CNN_eg_%s.png\"%Layers)\n",
    "\n",
    "plt.show()"
   ]
  },
  {
   "cell_type": "code",
   "execution_count": null,
   "metadata": {
    "pycharm": {
     "is_executing": false
    }
   },
   "outputs": [],
   "source": []
  },
  {
   "cell_type": "code",
   "execution_count": 19,
   "metadata": {
    "pycharm": {
     "is_executing": false
    }
   },
   "outputs": [],
   "source": [
    "### returns Sum-Squared-Difference of 2 array of images\n",
    "def SSD(x,y):\n",
    "    ssd  = np.sum(((decoded_Q-input_Q)**2),(1,2))\n",
    "    norm = np.sum(decoded_Q**2,(1,2)) *np.sum(input_Q**2,(1,2))\n",
    "    norm = norm**0.5\n",
    "    ssd /= norm\n",
    "    return ssd\n",
    "def CrossCorrelation(x,y):\n",
    "    cc  = np.sum(((decoded_Q*input_Q)**2),(1,2))\n",
    "    norm = np.sum(decoded_Q**2,(1,2)) *np.sum(input_Q**2,(1,2))\n",
    "    norm = norm**0.5\n",
    "    cc  /= norm\n",
    "    return cc"
   ]
  },
  {
   "cell_type": "code",
   "execution_count": 20,
   "metadata": {
    "pycharm": {
     "is_executing": false
    }
   },
   "outputs": [
    {
     "data": {
      "text/plain": [
       "(48,)"
      ]
     },
     "execution_count": 20,
     "metadata": {},
     "output_type": "execute_result"
    }
   ],
   "source": [
    "(decoded_Q[1].flatten()*input_Q[1].flatten()).shape"
   ]
  },
  {
   "cell_type": "code",
   "execution_count": 21,
   "metadata": {
    "pycharm": {
     "is_executing": false
    }
   },
   "outputs": [],
   "source": [
    "def cross_corr(x,y):\n",
    "    cov = np.cov(x.flatten(),y.flatten())\n",
    "    std = np.sqrt(np.diag(cov))\n",
    "    corr = cov / np.multiply.outer(std, std)\n",
    "    return corr[0,1]"
   ]
  },
  {
   "cell_type": "code",
   "execution_count": 22,
   "metadata": {
    "pycharm": {
     "is_executing": false
    }
   },
   "outputs": [
    {
     "data": {
      "image/png": "[encoded data removed]",
      "text/plain": [
       "<Figure size 432x288 with 1 Axes>"
      ]
     },
     "metadata": {
      "needs_background": "light"
     },
     "output_type": "display_data"
    }
   ],
   "source": [
    "corr = np.array([cross_corr(decoded_Q[i],input_Q[i]) for i in range(0,len(decoded_Q))]).flatten()\n",
    "plt.hist(corr,50)\n",
    "plt.show()"
   ]
  },
  {
   "cell_type": "code",
   "execution_count": 23,
   "metadata": {
    "pycharm": {
     "is_executing": false
    }
   },
   "outputs": [
    {
     "data": {
      "text/plain": [
       "array(['0.251', '0.976', '0.657', '0.747', '0.907', '0.975', '0.761',\n",
       "       '0.588'], dtype='<U5')"
      ]
     },
     "execution_count": 23,
     "metadata": {},
     "output_type": "execute_result"
    }
   ],
   "source": [
    "np.array(['%.3f'%cross_corr(inputImg[i],outputImg[i]) for i in range(0,len(inputImg))])"
   ]
  },
  {
   "cell_type": "code",
   "execution_count": 24,
   "metadata": {
    "pycharm": {
     "is_executing": false
    }
   },
   "outputs": [
    {
     "data": {
      "text/plain": [
       "0.6907117843805843"
      ]
     },
     "execution_count": 24,
     "metadata": {},
     "output_type": "execute_result"
    }
   ],
   "source": [
    "cross_corr(inputImg,outputImg)"
   ]
  },
  {
   "cell_type": "code",
   "execution_count": 25,
   "metadata": {
    "pycharm": {
     "is_executing": false
    }
   },
   "outputs": [
    {
     "data": {
      "text/plain": [
       "0.6026708172800999"
      ]
     },
     "execution_count": 25,
     "metadata": {},
     "output_type": "execute_result"
    },
    {
     "data": {
      "image/png": "[encoded data removed]",
      "text/plain": [
       "<Figure size 432x288 with 1 Axes>"
      ]
     },
     "metadata": {
      "needs_background": "light"
     },
     "output_type": "display_data"
    }
   ],
   "source": [
    "plt.hist(SSD(decoded_Q,input_Q),50)\n",
    "SSD(decoded_Q,input_Q).mean()"
   ]
  },
  {
   "cell_type": "code",
   "execution_count": null,
   "metadata": {
    "pycharm": {
     "is_executing": false
    }
   },
   "outputs": [],
   "source": []
  },
  {
   "cell_type": "code",
   "execution_count": 26,
   "metadata": {
    "pycharm": {
     "is_executing": false
    }
   },
   "outputs": [
    {
     "name": "stderr",
     "output_type": "stream",
     "text": [
      "/home/bhawks/PycharmProjects/Ecoder/venv36/lib64/python3.6/site-packages/ipykernel_launcher.py:9: MatplotlibDeprecationWarning: Adding an axes using the same arguments as a previous axes currently reuses the earlier instance.  In a future version, a new instance will always be created and returned.  Meanwhile, this warning can be suppressed, and the future behavior ensured, by passing a unique label to each axes instance.\n",
      "  if __name__ == '__main__':\n"
     ]
    },
    {
     "data": {
      "image/png": "[encoded data removed]",
      "text/plain": [
       "<Figure size 432x288 with 1 Axes>"
      ]
     },
     "metadata": {
      "needs_background": "light"
     },
     "output_type": "display_data"
    },
    {
     "name": "stdout",
     "output_type": "stream",
     "text": [
      "mu=-0.001 S.D.= 0.144, ave(PSNR) = 27.492  S.D(PSNR) = 8.477\n"
     ]
    }
   ],
   "source": [
    "y = (decoded_Q-input_Q).flatten()\n",
    "mu = np.mean(y)\n",
    "std = np.std(y)\n",
    "mse = np.sum((decoded_Q-input_Q)**2,1)/48\n",
    "PSNR = 10*np.log10(1/mse)\n",
    "\n",
    "plt.hist(y,50)\n",
    "\n",
    "ax = plt.axes()\n",
    "plt.text(0.1, 0.9, Layers,transform=ax.transAxes)\n",
    "plt.text(0.1, 0.8, r'$\\mu=%.3f,\\ \\sigma=%.3f$'%(mu,std),transform=ax.transAxes)\n",
    "plt.xlabel('decodedQ-inputQ')\n",
    "plt.ylabel('Entry')\n",
    "plt.title('Accuracy on validation set')\n",
    "plt.savefig(\"hist_%s.png\"%Layers)\n",
    "plt.show()\n",
    "print('mu=%.3f'%mu,'S.D.= %.3f, ave(PSNR) = %.3f  S.D(PSNR) = %.3f'%(std,PSNR.mean(),PSNR.std()))"
   ]
  },
  {
   "cell_type": "code",
   "execution_count": 30,
   "metadata": {
    "pycharm": {
     "is_executing": false
    }
   },
   "outputs": [],
   "source": [
    "from keras.utils import plot_model\n",
    "plot_model(autoencoder, show_shapes=True,to_file='model_cnn.png')"
   ]
  },
  {
   "cell_type": "code",
   "execution_count": 31,
   "metadata": {
    "pycharm": {
     "is_executing": false,
     "name": "#%%\n"
    }
   },
   "outputs": [],
   "source": [
    "from keras.models import model_from_json\n",
    "\n",
    "json_string = encoder.to_json()\n",
    "with open('./encoder_model_%s.json'%Layers,'w') as f:\n",
    "    f.write(json_string)\n",
    "encoder.save_weights('encoder_%s.hdf5'%Layers)\n",
    "\n",
    "json_string = autoencoder.to_json()\n",
    "with open('./autoencoder_model_%s.json'%Layers,'w') as f:\n",
    "    f.write(json_string)\n",
    "autoencoder.save_weights('autoencoder_%s.hdf5'%Layers)"
   ]
  },
  {
   "cell_type": "code",
   "execution_count": null,
   "metadata": {
    "pycharm": {
     "is_executing": false
    }
   },
   "outputs": [],
   "source": []
  },
  {
   "cell_type": "code",
   "execution_count": null,
   "metadata": {},
   "outputs": [],
   "source": []
  },
  {
   "cell_type": "code",
   "execution_count": null,
   "metadata": {},
   "outputs": [],
   "source": []
  },
  {
   "cell_type": "code",
   "execution_count": null,
   "metadata": {},
   "outputs": [],
   "source": []
  },
  {
   "cell_type": "code",
   "execution_count": null,
   "metadata": {},
   "outputs": [],
   "source": []
  },
  {
   "cell_type": "code",
   "execution_count": null,
   "metadata": {},
   "outputs": [],
   "source": []
  }
 ],
 "metadata": {
  "kernelspec": {
   "display_name": "PyCharm (Ecoder)",
   "language": "python",
   "name": "pycharm-a703c102"
  },
  "language_info": {
   "codemirror_mode": {
    "name": "ipython",
    "version": 3
   },
   "file_extension": ".py",
   "mimetype": "text/x-python",
   "name": "python",
   "nbconvert_exporter": "python",
   "pygments_lexer": "ipython3",
   "version": "3.6.8"
  },
  "pycharm": {
   "stem_cell": {
    "cell_type": "raw",
    "source": [],
    "metadata": {
     "collapsed": false
    }
   }
  }
 },
 "nbformat": 4,
 "nbformat_minor": 2
}