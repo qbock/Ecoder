{
 "cells": [
  {
   "cell_type": "code",
   "execution_count": 1,
   "metadata": {
    "pycharm": {
     "is_executing": false
    }
   },
   "outputs": [
    {
     "name": "stderr",
     "output_type": "stream",
     "text": [
      "Using TensorFlow backend.\n"
     ]
    }
   ],
   "source": [
    "import keras as kr\n",
    "import qkeras as qkr\n",
    "import numpy as np\n",
    "import tensorflow as tf\n",
    "import pandas as pd\n"
   ]
  },
  {
   "cell_type": "code",
   "execution_count": 2,
   "metadata": {
    "pycharm": {
     "is_executing": false
    }
   },
   "outputs": [],
   "source": [
    "import matplotlib.pyplot as plt"
   ]
  },
  {
   "cell_type": "code",
   "execution_count": 3,
   "metadata": {
    "pycharm": {
     "is_executing": false
    }
   },
   "outputs": [],
   "source": [
    "data = pd.read_csv(\"CALQ_output_10x.csv\")  ## big  300k file"
   ]
  },
  {
   "cell_type": "code",
   "execution_count": 4,
   "metadata": {
    "pycharm": {
     "is_executing": false
    }
   },
   "outputs": [],
   "source": [
    "normData = data.apply(lambda x: x/max(x),axis=1)\n",
    "inputdata = normData.values"
   ]
  },
  {
   "cell_type": "code",
   "execution_count": 5,
   "metadata": {
    "pycharm": {
     "is_executing": false
    }
   },
   "outputs": [],
   "source": [
    "Nsamples = 50000\n",
    "inputdata = normData.values[1:Nsamples]"
   ]
  },
  {
   "cell_type": "code",
   "execution_count": 6,
   "metadata": {
    "pycharm": {
     "is_executing": false
    }
   },
   "outputs": [],
   "source": [
    "shaped_data = np.reshape(inputdata,(len(inputdata),12,4,1))"
   ]
  },
  {
   "cell_type": "code",
   "execution_count": 7,
   "metadata": {
    "pycharm": {
     "is_executing": false
    }
   },
   "outputs": [
    {
     "name": "stdout",
     "output_type": "stream",
     "text": [
      "WARNING:tensorflow:From c:\\users\\ben\\pycharmprojects\\ecoder\\venv\\lib\\site-packages\\tensorflow_core\\python\\ops\\resource_variable_ops.py:1630: calling BaseResourceVariable.__init__ (from tensorflow.python.ops.resource_variable_ops) with constraint is deprecated and will be removed in a future version.\n",
      "Instructions for updating:\n",
      "If using Keras pass *_constraint arguments to layers.\n",
      "WARNING:tensorflow:From c:\\users\\ben\\pycharmprojects\\ecoder\\venv\\lib\\site-packages\\keras\\backend\\tensorflow_backend.py:4070: The name tf.nn.max_pool is deprecated. Please use tf.nn.max_pool2d instead.\n",
      "\n",
      "WARNING:tensorflow:From c:\\users\\ben\\pycharmprojects\\ecoder\\venv\\lib\\site-packages\\tensorflow_core\\python\\ops\\nn_impl.py:183: where (from tensorflow.python.ops.array_ops) is deprecated and will be removed in a future version.\n",
      "Instructions for updating:\n",
      "Use tf.where in 2.0, which has the same broadcast rule as np.where\n"
     ]
    }
   ],
   "source": [
    "from keras.layers import Input, Dense, Conv2D, MaxPooling2D, UpSampling2D\n",
    "from keras.models import Model\n",
    "from keras import backend as K\n",
    "\n",
    "input_img = Input(shape=(12,4,1),name='input')  # adapt this if using `channels_first` image data format\n",
    "\n",
    "x = Conv2D(16, (3, 3), activation='relu', padding='same',name='conv2d_0_m')(input_img)\n",
    "x = MaxPooling2D((2, 2), padding='same',name='mp_0')(x)\n",
    "x = Conv2D(8, (3, 3), activation='relu', padding='same',name='conv2d_1_m')(x)\n",
    "x = MaxPooling2D((2, 2), padding='same',name='mp_1')(x)\n",
    "x = Conv2D(4, (3, 3), activation='relu', padding='same',name='conv2d_2_m')(x)\n",
    "encoded = MaxPooling2D((2, 2), padding='same',name='mp_2')(x)\n",
    "\n",
    "# at this point the representation is (4, 4, 8) i.e. 128-dimensional\n",
    "\n",
    "x = Conv2D(4, (3, 3), activation='relu', padding='same',name='conv2d_3_m')(encoded)\n",
    "x = UpSampling2D((2, 2),name='up_0')(x)\n",
    "x = Conv2D(8, (3, 3), activation='relu', padding='same',name='conv2d_4_m')(x)\n",
    "x = UpSampling2D((2, 2),name='up_1')(x)\n",
    "x = Conv2D(16, (3, 3), activation='relu',name='conv2d_5_m')(x)\n",
    "x = UpSampling2D((2, 2),name='up_2')(x)\n",
    "decoded = Conv2D(1, (3, 3), activation='sigmoid', padding='same',name='conv2d_6_m')(x)\n",
    "\n",
    "autoencoder = Model(input_img, decoded)\n",
    "autoencoder.compile(optimizer='adadelta', loss='binary_crossentropy')"
   ]
  },
  {
   "cell_type": "code",
   "execution_count": 8,
   "metadata": {
    "pycharm": {
     "is_executing": false
    }
   },
   "outputs": [
    {
     "name": "stdout",
     "output_type": "stream",
     "text": [
      "Model: \"model_1\"\n",
      "_________________________________________________________________\n",
      "Layer (type)                 Output Shape              Param #   \n",
      "=================================================================\n",
      "input (InputLayer)           (None, 12, 4, 1)          0         \n",
      "_________________________________________________________________\n",
      "conv2d_0_m (QConv2D)         (None, 12, 4, 16)         160       \n",
      "_________________________________________________________________\n",
      "mp_0 (MaxPooling2D)          (None, 6, 2, 16)          0         \n",
      "_________________________________________________________________\n",
      "conv2d_1_m (QConv2D)         (None, 6, 2, 8)           1160      \n",
      "_________________________________________________________________\n",
      "mp_1 (MaxPooling2D)          (None, 3, 1, 8)           0         \n",
      "_________________________________________________________________\n",
      "conv2d_2_m (QConv2D)         (None, 3, 1, 4)           292       \n",
      "_________________________________________________________________\n",
      "mp_2 (MaxPooling2D)          (None, 2, 1, 4)           0         \n",
      "_________________________________________________________________\n",
      "conv2d_3_m (QConv2D)         (None, 2, 1, 4)           148       \n",
      "_________________________________________________________________\n",
      "up_0 (UpSampling2D)          (None, 4, 2, 4)           0         \n",
      "_________________________________________________________________\n",
      "conv2d_4_m (QConv2D)         (None, 4, 2, 8)           296       \n",
      "_________________________________________________________________\n",
      "up_1 (UpSampling2D)          (None, 8, 4, 8)           0         \n",
      "_________________________________________________________________\n",
      "conv2d_5_m (QConv2D)         (None, 6, 2, 16)          1168      \n",
      "_________________________________________________________________\n",
      "up_2 (UpSampling2D)          (None, 12, 4, 16)         0         \n",
      "_________________________________________________________________\n",
      "conv2d_6_m (QConv2D)         (None, 12, 4, 1)          145       \n",
      "=================================================================\n",
      "Total params: 3,369\n",
      "Trainable params: 3,369\n",
      "Non-trainable params: 0\n",
      "_________________________________________________________________\n"
     ]
    }
   ],
   "source": [
    "kqbit = 6\n",
    "bqbit = 6\n",
    "kb = {\n",
    "        \"kernel\": \"quantized_bits(\" + str(kqbit) + \")\",\n",
    "        \"bias\": \"quantized_bits(\" + str(bqbit) + \")\"\n",
    "    }\n",
    "\n",
    "from qkeras import *\n",
    "q_dict = {\n",
    "    \"conv2d_0_m\": kb,\n",
    "    \"conv2d_1_m\": kb,\n",
    "    \"conv2d_2_m\": kb,\n",
    "    \"conv2d_3_m\": kb,\n",
    "    \"conv2d_4_m\": kb,\n",
    "    \"conv2d_5_m\": kb,    \n",
    "    \"conv2d_6_m\": kb,    \n",
    "    \"mp_0\": kb,        \n",
    "    \"mp_1\": kb,        \n",
    "    \"mp_2\": kb,   \n",
    "    \"up_0\": kb, \n",
    "    \"up_1\": kb, \n",
    "    \"up_2\": kb  \n",
    "}\n",
    "\n",
    "qautoencoder, _ = qkr.model_quantize(autoencoder, q_dict, kqbit)\n",
    "qautoencoder.compile(optimizer='adadelta', loss='binary_crossentropy')\n",
    "qautoencoder.summary()"
   ]
  },
  {
   "cell_type": "code",
   "execution_count": 9,
   "metadata": {
    "pycharm": {
     "is_executing": false
    }
   },
   "outputs": [
    {
     "name": "stdout",
     "output_type": "stream",
     "text": [
      "Model: \"model_2\"\n",
      "_________________________________________________________________\n",
      "Layer (type)                 Output Shape              Param #   \n",
      "=================================================================\n",
      "input (InputLayer)           (None, 12, 4, 1)          0         \n",
      "_________________________________________________________________\n",
      "conv2d_0_m (QConv2D)         (None, 12, 4, 16)         160       \n",
      "_________________________________________________________________\n",
      "mp_0 (MaxPooling2D)          (None, 6, 2, 16)          0         \n",
      "_________________________________________________________________\n",
      "conv2d_1_m (QConv2D)         (None, 6, 2, 8)           1160      \n",
      "_________________________________________________________________\n",
      "mp_1 (MaxPooling2D)          (None, 3, 1, 8)           0         \n",
      "_________________________________________________________________\n",
      "conv2d_2_m (QConv2D)         (None, 3, 1, 4)           292       \n",
      "_________________________________________________________________\n",
      "mp_2 (MaxPooling2D)          (None, 2, 1, 4)           0         \n",
      "=================================================================\n",
      "Total params: 1,612\n",
      "Trainable params: 1,612\n",
      "Non-trainable params: 0\n",
      "_________________________________________________________________\n"
     ]
    }
   ],
   "source": [
    "encoder = kr.Model(input_img, encoded)\n",
    "qencoder, _ = qkr.model_quantize(encoder, q_dict, kqbit)\n",
    "qencoder.summary()"
   ]
  },
  {
   "cell_type": "code",
   "execution_count": 10,
   "metadata": {
    "pycharm": {
     "is_executing": false
    }
   },
   "outputs": [],
   "source": [
    "validation_frac = 0.2\n",
    "N = round(len(shaped_data)*validation_frac)\n",
    "\n",
    "#randomly select 25% entries\n",
    "index = np.random.choice(shaped_data.shape[0], N, replace=False)  \n",
    "#select the indices of the other 75%\n",
    "full_index = np.array(range(0,len(shaped_data)))\n",
    "train_index = np.logical_not(np.in1d(full_index,index))\n",
    "\n",
    "val_input = shaped_data[index]\n",
    "train_input = shaped_data[train_index]"
   ]
  },
  {
   "cell_type": "code",
   "execution_count": 11,
   "metadata": {
    "pycharm": {
     "is_executing": false
    }
   },
   "outputs": [
    {
     "name": "stdout",
     "output_type": "stream",
     "text": [
      "WARNING:tensorflow:From c:\\users\\ben\\pycharmprojects\\ecoder\\venv\\lib\\site-packages\\keras\\backend\\tensorflow_backend.py:422: The name tf.global_variables is deprecated. Please use tf.compat.v1.global_variables instead.\n",
      "\n",
      "Train on 39999 samples, validate on 10000 samples\n",
      "Epoch 1/150\n",
      "39999/39999 [==============================] - 7s 175us/step - loss: 0.3204 - val_loss: 0.2859\n",
      "Epoch 2/150\n",
      "39999/39999 [==============================] - 6s 159us/step - loss: 0.2734 - val_loss: 0.2711\n",
      "Epoch 3/150\n",
      "39999/39999 [==============================] - 6s 160us/step - loss: 0.2660 - val_loss: 0.2647\n",
      "Epoch 4/150\n",
      "39999/39999 [==============================] - 6s 160us/step - loss: 0.2617 - val_loss: 0.2603\n",
      "Epoch 5/150\n",
      "39999/39999 [==============================] - 6s 159us/step - loss: 0.2591 - val_loss: 0.2605\n",
      "Epoch 6/150\n",
      "39999/39999 [==============================] - 6s 157us/step - loss: 0.2571 - val_loss: 0.2578\n",
      "Epoch 7/150\n",
      "39999/39999 [==============================] - 6s 156us/step - loss: 0.2549 - val_loss: 0.2564\n",
      "Epoch 8/150\n",
      "39999/39999 [==============================] - 6s 156us/step - loss: 0.2525 - val_loss: 0.2527\n",
      "Epoch 9/150\n",
      "39999/39999 [==============================] - 6s 157us/step - loss: 0.2487 - val_loss: 0.2502\n",
      "Epoch 10/150\n",
      "39999/39999 [==============================] - 6s 158us/step - loss: 0.2466 - val_loss: 0.2477\n",
      "Epoch 11/150\n",
      "39999/39999 [==============================] - 6s 160us/step - loss: 0.2449 - val_loss: 0.2464\n",
      "Epoch 12/150\n",
      "39999/39999 [==============================] - 7s 172us/step - loss: 0.2430 - val_loss: 0.2435\n",
      "Epoch 13/150\n",
      "39999/39999 [==============================] - 6s 158us/step - loss: 0.2413 - val_loss: 0.2425\n",
      "Epoch 14/150\n",
      "39999/39999 [==============================] - 6s 157us/step - loss: 0.2396 - val_loss: 0.2402\n",
      "Epoch 15/150\n",
      "39999/39999 [==============================] - 7s 163us/step - loss: 0.2384 - val_loss: 0.2394\n",
      "Epoch 16/150\n",
      "39999/39999 [==============================] - 7s 174us/step - loss: 0.2377 - val_loss: 0.2392\n",
      "Epoch 17/150\n",
      "39999/39999 [==============================] - 6s 158us/step - loss: 0.2370 - val_loss: 0.2409\n",
      "Epoch 18/150\n",
      "39999/39999 [==============================] - 6s 159us/step - loss: 0.2361 - val_loss: 0.2382\n",
      "Epoch 19/150\n",
      "39999/39999 [==============================] - 6s 158us/step - loss: 0.2353 - val_loss: 0.2368\n",
      "Epoch 20/150\n",
      "39999/39999 [==============================] - 6s 158us/step - loss: 0.2347 - val_loss: 0.2356\n",
      "Epoch 21/150\n",
      "39999/39999 [==============================] - 6s 159us/step - loss: 0.2339 - val_loss: 0.2354\n",
      "Epoch 22/150\n",
      "39999/39999 [==============================] - 7s 164us/step - loss: 0.2334 - val_loss: 0.2366\n",
      "Epoch 23/150\n",
      "39999/39999 [==============================] - 6s 158us/step - loss: 0.2327 - val_loss: 0.2332\n",
      "Epoch 24/150\n",
      "39999/39999 [==============================] - 6s 162us/step - loss: 0.2318 - val_loss: 0.2322\n",
      "Epoch 25/150\n",
      "39999/39999 [==============================] - 7s 170us/step - loss: 0.2307 - val_loss: 0.2334\n",
      "Epoch 26/150\n",
      "39999/39999 [==============================] - 7s 170us/step - loss: 0.2305 - val_loss: 0.2335\n",
      "Epoch 27/150\n",
      "39999/39999 [==============================] - 7s 172us/step - loss: 0.2297 - val_loss: 0.2323\n",
      "Epoch 28/150\n",
      "39999/39999 [==============================] - 7s 171us/step - loss: 0.2291 - val_loss: 0.2319\n",
      "Epoch 29/150\n",
      "39999/39999 [==============================] - 7s 172us/step - loss: 0.2287 - val_loss: 0.2296\n",
      "Epoch 30/150\n",
      "39999/39999 [==============================] - 7s 181us/step - loss: 0.2284 - val_loss: 0.2297\n",
      "Epoch 31/150\n",
      "39999/39999 [==============================] - 7s 180us/step - loss: 0.2279 - val_loss: 0.2302\n",
      "Epoch 32/150\n",
      "39999/39999 [==============================] - 7s 178us/step - loss: 0.2275 - val_loss: 0.2298\n",
      "Epoch 33/150\n",
      "39999/39999 [==============================] - 7s 178us/step - loss: 0.2271 - val_loss: 0.2291\n",
      "Epoch 34/150\n",
      "39999/39999 [==============================] - 7s 174us/step - loss: 0.2269 - val_loss: 0.2290\n",
      "Epoch 35/150\n",
      "39999/39999 [==============================] - 7s 174us/step - loss: 0.2268 - val_loss: 0.2285\n",
      "Epoch 36/150\n",
      "39999/39999 [==============================] - 7s 187us/step - loss: 0.2265 - val_loss: 0.2285\n",
      "Epoch 37/150\n",
      "39999/39999 [==============================] - 7s 178us/step - loss: 0.2264 - val_loss: 0.2296\n",
      "Epoch 38/150\n",
      "39999/39999 [==============================] - 7s 179us/step - loss: 0.2262 - val_loss: 0.2281\n",
      "Epoch 39/150\n",
      "39999/39999 [==============================] - 8s 189us/step - loss: 0.2259 - val_loss: 0.2298\n",
      "Epoch 40/150\n",
      "39999/39999 [==============================] - 7s 183us/step - loss: 0.2259 - val_loss: 0.2283\n",
      "Epoch 41/150\n",
      "39999/39999 [==============================] - 7s 184us/step - loss: 0.2256 - val_loss: 0.2267\n",
      "Epoch 42/150\n",
      "39999/39999 [==============================] - 9s 217us/step - loss: 0.2253 - val_loss: 0.2275\n",
      "Epoch 43/150\n",
      "39999/39999 [==============================] - 10s 240us/step - loss: 0.2251 - val_loss: 0.2264\n",
      "Epoch 44/150\n",
      "39999/39999 [==============================] - 8s 209us/step - loss: 0.2247 - val_loss: 0.2257\n",
      "Epoch 45/150\n",
      "39999/39999 [==============================] - 9s 220us/step - loss: 0.2245 - val_loss: 0.2260\n",
      "Epoch 46/150\n",
      "39999/39999 [==============================] - 8s 200us/step - loss: 0.2243 - val_loss: 0.2261\n",
      "Epoch 47/150\n",
      "39999/39999 [==============================] - 8s 197us/step - loss: 0.2242 - val_loss: 0.2267\n",
      "Epoch 48/150\n",
      "39999/39999 [==============================] - 8s 192us/step - loss: 0.2243 - val_loss: 0.2273\n",
      "Epoch 49/150\n",
      "39999/39999 [==============================] - 8s 204us/step - loss: 0.2242 - val_loss: 0.2255\n",
      "Epoch 50/150\n",
      "39999/39999 [==============================] - 8s 198us/step - loss: 0.2236 - val_loss: 0.2258\n",
      "Epoch 51/150\n",
      "39999/39999 [==============================] - 8s 192us/step - loss: 0.2235 - val_loss: 0.2252\n",
      "Epoch 52/150\n",
      "39999/39999 [==============================] - 8s 204us/step - loss: 0.2233 - val_loss: 0.2250\n",
      "Epoch 53/150\n",
      "39999/39999 [==============================] - 8s 198us/step - loss: 0.2231 - val_loss: 0.2277\n",
      "Epoch 54/150\n",
      "39999/39999 [==============================] - 8s 201us/step - loss: 0.2230 - val_loss: 0.2253\n",
      "Epoch 55/150\n",
      "39999/39999 [==============================] - 8s 192us/step - loss: 0.2229 - val_loss: 0.2244\n",
      "Epoch 56/150\n",
      "39999/39999 [==============================] - 8s 209us/step - loss: 0.2224 - val_loss: 0.2250\n",
      "Epoch 57/150\n",
      "39999/39999 [==============================] - 8s 200us/step - loss: 0.2221 - val_loss: 0.2237\n",
      "Epoch 58/150\n",
      "39999/39999 [==============================] - 8s 202us/step - loss: 0.2218 - val_loss: 0.2229\n",
      "Epoch 59/150\n",
      "39999/39999 [==============================] - 8s 200us/step - loss: 0.2211 - val_loss: 0.2218\n",
      "Epoch 60/150\n",
      "39999/39999 [==============================] - 8s 201us/step - loss: 0.2204 - val_loss: 0.2223\n",
      "Epoch 61/150\n",
      "39999/39999 [==============================] - 10s 253us/step - loss: 0.2194 - val_loss: 0.2211\n",
      "Epoch 62/150\n",
      "39999/39999 [==============================] - 8s 206us/step - loss: 0.2188 - val_loss: 0.2196\n",
      "Epoch 63/150\n",
      "39999/39999 [==============================] - 8s 208us/step - loss: 0.2187 - val_loss: 0.2190\n",
      "Epoch 64/150\n",
      "39999/39999 [==============================] - 8s 202us/step - loss: 0.2181 - val_loss: 0.2207\n",
      "Epoch 65/150\n",
      "39999/39999 [==============================] - 9s 215us/step - loss: 0.2177 - val_loss: 0.2191\n",
      "Epoch 66/150\n",
      "39999/39999 [==============================] - 8s 202us/step - loss: 0.2176 - val_loss: 0.2219\n",
      "Epoch 67/150\n",
      "39999/39999 [==============================] - 8s 198us/step - loss: 0.2173 - val_loss: 0.2188\n",
      "Epoch 68/150\n",
      "39999/39999 [==============================] - 8s 203us/step - loss: 0.2170 - val_loss: 0.2190\n",
      "Epoch 69/150\n",
      "39999/39999 [==============================] - 8s 208us/step - loss: 0.2166 - val_loss: 0.2179\n",
      "Epoch 70/150\n",
      "39999/39999 [==============================] - 8s 207us/step - loss: 0.2165 - val_loss: 0.2198\n",
      "Epoch 71/150\n",
      "39999/39999 [==============================] - 8s 205us/step - loss: 0.2164 - val_loss: 0.2183\n",
      "Epoch 72/150\n",
      "39999/39999 [==============================] - 8s 202us/step - loss: 0.2163 - val_loss: 0.2189\n",
      "Epoch 73/150\n",
      "39999/39999 [==============================] - 8s 199us/step - loss: 0.2162 - val_loss: 0.2200\n",
      "Epoch 74/150\n"
     ]
    },
    {
     "name": "stdout",
     "output_type": "stream",
     "text": [
      "39999/39999 [==============================] - 8s 194us/step - loss: 0.2159 - val_loss: 0.2195\n",
      "Epoch 00074: early stopping\n"
     ]
    }
   ],
   "source": [
    "es = kr.callbacks.EarlyStopping(monitor='val_loss', mode='min', verbose=1, patience=5)\n",
    "history = qautoencoder.fit(train_input,train_input,\n",
    "                epochs=150,\n",
    "                batch_size=256,\n",
    "                shuffle=True,\n",
    "                validation_data=(val_input,val_input),\n",
    "                callbacks=[es])"
   ]
  },
  {
   "cell_type": "code",
   "execution_count": 12,
   "metadata": {
    "pycharm": {
     "is_executing": false
    }
   },
   "outputs": [],
   "source": [
    "Layers = 'qCNN_'+str(kqbit)+'bit_16_8_4'"
   ]
  },
  {
   "cell_type": "code",
   "execution_count": 13,
   "metadata": {
    "pycharm": {
     "is_executing": false
    }
   },
   "outputs": [
    {
     "data": {
      "image/png": "[encoded data removed]",
      "text/plain": [
       "<Figure size 432x288 with 1 Axes>"
      ]
     },
     "metadata": {
      "needs_background": "light"
     },
     "output_type": "display_data"
    }
   ],
   "source": [
    "plt.plot(history.history['loss'])\n",
    "plt.plot(history.history['val_loss'])\n",
    "plt.title('Model loss %s'%Layers)\n",
    "plt.ylabel('Loss')\n",
    "plt.xlabel('Epoch')\n",
    "plt.legend(['Train', 'Test'], loc='upper right')\n",
    "plt.savefig(\"history_%s.png\"%Layers)\n",
    "plt.show()"
   ]
  },
  {
   "cell_type": "code",
   "execution_count": 14,
   "metadata": {
    "pycharm": {
     "is_executing": false
    }
   },
   "outputs": [],
   "source": [
    "x = val_input\n",
    "\n",
    "decoded_Q = qautoencoder.predict(x)\n",
    "encoded_Q = qencoder.predict(x)\n",
    "\n",
    "input_Q   = np.reshape(x,(len(x),12,4))\n",
    "decoded_Q = np.reshape(decoded_Q,(len(decoded_Q),12,4))\n",
    "encoded_shape = encoded_Q.shape\n",
    "encoded_Q = np.reshape(encoded_Q,(len(encoded_Q),encoded_shape[3],encoded_shape[1]))"
   ]
  },
  {
   "cell_type": "code",
   "execution_count": 15,
   "metadata": {
    "pycharm": {
     "is_executing": false
    }
   },
   "outputs": [
    {
     "data": {
      "image/png": "[encoded data removed]",
      "text/plain": [
       "<Figure size 1152x720 with 32 Axes>"
      ]
     },
     "metadata": {
      "needs_background": "light"
     },
     "output_type": "display_data"
    }
   ],
   "source": [
    "\n",
    "Nevents = 8\n",
    "index = np.random.choice(x.shape[0], Nevents, replace=False)  \n",
    "\n",
    "inputImg    = input_Q[index]\n",
    "encodedImg  = encoded_Q[index]\n",
    "outputImg   = decoded_Q[index]\n",
    "\n",
    "fig, axs = plt.subplots(3, Nevents, figsize=(16, 10))\n",
    "\n",
    "for i in range(0,Nevents):\n",
    "    if i==0:\n",
    "        axs[0,i].set(xlabel='',ylabel='cell_y',title='Input_%i'%i)\n",
    "    else:\n",
    "        axs[0,i].set(xlabel='',title='Input_%i'%i)        \n",
    "    c1=axs[0,i].imshow(inputImg[i])\n",
    "    \n",
    "for i in range(0,Nevents):\n",
    "    if i==0:\n",
    "        axs[1,i].set(xlabel='cell_x',ylabel='cell_y',title='Ouput_%i'%i)        \n",
    "    else:\n",
    "        axs[1,i].set(xlabel='cell_x',title='Ouput_%i'%i)\n",
    "    c1=axs[1,i].imshow(outputImg[i])\n",
    "\n",
    "for i in range(0,Nevents):\n",
    "    if i==0:\n",
    "        axs[2,i].set(xlabel='latent dim',ylabel='depth',title='Encoded_%i'%i)\n",
    "    else:\n",
    "        axs[2,i].set(xlabel='latent dim',title='Encoded_%i'%i)\n",
    "    c1=axs[2,i].imshow(encodedImg[i])\n",
    "    plt.colorbar(c1,ax=axs[2,i])\n",
    "\n",
    "plt.tight_layout()\n",
    "plt.savefig(\"CNN_eg_%s.png\"%Layers)\n",
    "\n",
    "plt.show()"
   ]
  },
  {
   "cell_type": "code",
   "execution_count": null,
   "metadata": {
    "pycharm": {
     "is_executing": false
    }
   },
   "outputs": [],
   "source": []
  },
  {
   "cell_type": "code",
   "execution_count": 16,
   "metadata": {
    "pycharm": {
     "is_executing": false
    }
   },
   "outputs": [
    {
     "data": {
      "text/plain": [
       "'qCNN_6bit_16_8_4'"
      ]
     },
     "execution_count": 16,
     "metadata": {},
     "output_type": "execute_result"
    }
   ],
   "source": [
    "Layers"
   ]
  },
  {
   "cell_type": "code",
   "execution_count": 17,
   "metadata": {
    "pycharm": {
     "is_executing": false
    }
   },
   "outputs": [],
   "source": [
    "from keras.models import model_from_json\n",
    "\n",
    "json_string = encoder.to_json()\n",
    "with open('./encoder_model_%s.json'%Layers,'w') as f:\n",
    "    f.write(json_string)\n",
    "encoder.save_weights('encoder_%s.hdf5'%Layers)\n",
    "\n",
    "json_string = autoencoder.to_json()\n",
    "with open('./autoencoder_model_%s.json'%Layers,'w') as f:\n",
    "    f.write(json_string)\n",
    "autoencoder.save_weights('autoencoder_%s.hdf5'%Layers)"
   ]
  },
  {
   "cell_type": "code",
   "execution_count": null,
   "metadata": {
    "pycharm": {
     "is_executing": false
    }
   },
   "outputs": [],
   "source": []
  },
  {
   "cell_type": "code",
   "execution_count": null,
   "metadata": {
    "pycharm": {
     "is_executing": false
    }
   },
   "outputs": [],
   "source": []
  }
 ],
 "metadata": {
  "kernelspec": {
   "display_name": "Python 3",
   "language": "python",
   "name": "python3"
  },
  "language_info": {
   "codemirror_mode": {
    "name": "ipython",
    "version": 3
   },
   "file_extension": ".py",
   "mimetype": "text/x-python",
   "name": "python",
   "nbconvert_exporter": "python",
   "pygments_lexer": "ipython3",
   "version": "3.6.8"
  },
  "pycharm": {
   "stem_cell": {
    "cell_type": "raw",
    "metadata": {
     "collapsed": false
    },
    "source": []
   }
  }
 },
 "nbformat": 4,
 "nbformat_minor": 2
}
